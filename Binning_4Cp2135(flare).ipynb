{
 "cells": [
  {
   "cell_type": "markdown",
   "id": "74a86fb5-4e54-4e3f-b349-3e60fbdd0279",
   "metadata": {
    "tags": []
   },
   "source": [
    "# Download the data, combine with background and binning example (4C+21.35, flare)"
   ]
  },
  {
   "cell_type": "markdown",
   "id": "e7df3443-3ce1-43f3-90b5-1bceb7bc9af0",
   "metadata": {},
   "source": [
    "**This tutotrial walks through all the steps needed in creating the combined data set (source + background), and binning the data for the blazar (4C+21.35, flare).**\n",
    "\n",
    "**For the background we use just the albedo photons.**\n",
    "\n",
    "**To run this, you need the following files (available on wasabi)**\n",
    "\n",
    "- COSI-SMEX/DC3/Data/Sources/4C21p35_flare_3months_unbinned_data_filtered_with_SAAcut.fits.gz \n",
    "- COSI-SMEX/DC3/Data/Backgrounds/Ge/AlbedoPhotons_3months_unbinned_data_filtered_with_SAAcut.fits.gz  \n",
    " "
   ]
  },
  {
   "cell_type": "code",
   "execution_count": 1,
   "id": "ce42ab82-3bbd-4729-8f84-a4e32eb3bb24",
   "metadata": {
    "tags": []
   },
   "outputs": [
    {
     "data": {
      "text/html": [
       "<pre style=\"white-space:pre;overflow-x:auto;line-height:normal;font-family:Menlo,'DejaVu Sans Mono',consolas,'Courier New',monospace\"><span style=\"color: #00ff00; text-decoration-color: #00ff00\">08:01:28 </span><span style=\"color: #af5fd7; text-decoration-color: #af5fd7\">WARNING </span> <span style=\"color: #c6c6c6; text-decoration-color: #c6c6c6; font-weight: bold\"> The naima package is not available. Models that depend on it will not be         </span><a href=\"file:///home/srinadb/miniconda3/envs/cosipy_developer/lib/python3.10/site-packages/astromodels/functions/functions_1D/functions.py\" target=\"_blank\"><span style=\"color: #7f7f7f; text-decoration-color: #7f7f7f\">functions.py</span></a><span style=\"color: #7f7f7f; text-decoration-color: #7f7f7f\">:</span><a href=\"file:///home/srinadb/miniconda3/envs/cosipy_developer/lib/python3.10/site-packages/astromodels/functions/functions_1D/functions.py#47\" target=\"_blank\"><span style=\"color: #7f7f7f; text-decoration-color: #7f7f7f\">47</span></a>\n",
       "<span style=\"color: #00ff00; text-decoration-color: #00ff00\">         </span>         <span style=\"color: #c6c6c6; text-decoration-color: #c6c6c6; font-weight: bold\">available                                                                         </span><span style=\"color: #7f7f7f; text-decoration-color: #7f7f7f\">               </span>\n",
       "</pre>\n"
      ],
      "text/plain": [
       "\u001b[38;5;46m08:01:28\u001b[0m\u001b[38;5;46m \u001b[0m\u001b[38;5;134mWARNING \u001b[0m \u001b[1;38;5;251m The naima package is not available. Models that depend on it will not be        \u001b[0m\u001b[1;38;5;251m \u001b[0m\u001b]8;id=782477;file:///home/srinadb/miniconda3/envs/cosipy_developer/lib/python3.10/site-packages/astromodels/functions/functions_1D/functions.py\u001b\\\u001b[2mfunctions.py\u001b[0m\u001b]8;;\u001b\\\u001b[2m:\u001b[0m\u001b]8;id=299332;file:///home/srinadb/miniconda3/envs/cosipy_developer/lib/python3.10/site-packages/astromodels/functions/functions_1D/functions.py#47\u001b\\\u001b[2m47\u001b[0m\u001b]8;;\u001b\\\n",
       "\u001b[38;5;46m         \u001b[0m         \u001b[1;38;5;251mavailable                                                                        \u001b[0m\u001b[1;38;5;251m \u001b[0m\u001b[2m               \u001b[0m\n"
      ]
     },
     "metadata": {},
     "output_type": "display_data"
    },
    {
     "data": {
      "text/html": [
       "<pre style=\"white-space:pre;overflow-x:auto;line-height:normal;font-family:Menlo,'DejaVu Sans Mono',consolas,'Courier New',monospace\"><span style=\"color: #00ff00; text-decoration-color: #00ff00\">         </span><span style=\"color: #af5fd7; text-decoration-color: #af5fd7\">WARNING </span> <span style=\"color: #c6c6c6; text-decoration-color: #c6c6c6; font-weight: bold\"> The GSL library or the pygsl wrapper cannot be loaded. Models that depend on it  </span><a href=\"file:///home/srinadb/miniconda3/envs/cosipy_developer/lib/python3.10/site-packages/astromodels/functions/functions_1D/functions.py\" target=\"_blank\"><span style=\"color: #7f7f7f; text-decoration-color: #7f7f7f\">functions.py</span></a><span style=\"color: #7f7f7f; text-decoration-color: #7f7f7f\">:</span><a href=\"file:///home/srinadb/miniconda3/envs/cosipy_developer/lib/python3.10/site-packages/astromodels/functions/functions_1D/functions.py#68\" target=\"_blank\"><span style=\"color: #7f7f7f; text-decoration-color: #7f7f7f\">68</span></a>\n",
       "<span style=\"color: #00ff00; text-decoration-color: #00ff00\">         </span>         <span style=\"color: #c6c6c6; text-decoration-color: #c6c6c6; font-weight: bold\">will not be available.                                                            </span><span style=\"color: #7f7f7f; text-decoration-color: #7f7f7f\">               </span>\n",
       "</pre>\n"
      ],
      "text/plain": [
       "\u001b[38;5;46m        \u001b[0m\u001b[38;5;46m \u001b[0m\u001b[38;5;134mWARNING \u001b[0m \u001b[1;38;5;251m The GSL library or the pygsl wrapper cannot be loaded. Models that depend on it \u001b[0m\u001b[1;38;5;251m \u001b[0m\u001b]8;id=82924;file:///home/srinadb/miniconda3/envs/cosipy_developer/lib/python3.10/site-packages/astromodels/functions/functions_1D/functions.py\u001b\\\u001b[2mfunctions.py\u001b[0m\u001b]8;;\u001b\\\u001b[2m:\u001b[0m\u001b]8;id=83186;file:///home/srinadb/miniconda3/envs/cosipy_developer/lib/python3.10/site-packages/astromodels/functions/functions_1D/functions.py#68\u001b\\\u001b[2m68\u001b[0m\u001b]8;;\u001b\\\n",
       "\u001b[38;5;46m         \u001b[0m         \u001b[1;38;5;251mwill not be available.                                                           \u001b[0m\u001b[1;38;5;251m \u001b[0m\u001b[2m               \u001b[0m\n"
      ]
     },
     "metadata": {},
     "output_type": "display_data"
    },
    {
     "data": {
      "text/html": [
       "<pre style=\"white-space:pre;overflow-x:auto;line-height:normal;font-family:Menlo,'DejaVu Sans Mono',consolas,'Courier New',monospace\"><span style=\"color: #00ff00; text-decoration-color: #00ff00\">         </span><span style=\"color: #af5fd7; text-decoration-color: #af5fd7\">WARNING </span> <span style=\"color: #c6c6c6; text-decoration-color: #c6c6c6; font-weight: bold\"> The ebltable package is not available. Models that depend on it will not be     </span><a href=\"file:///home/srinadb/miniconda3/envs/cosipy_developer/lib/python3.10/site-packages/astromodels/functions/functions_1D/absorption.py\" target=\"_blank\"><span style=\"color: #7f7f7f; text-decoration-color: #7f7f7f\">absorption.py</span></a><span style=\"color: #7f7f7f; text-decoration-color: #7f7f7f\">:</span><a href=\"file:///home/srinadb/miniconda3/envs/cosipy_developer/lib/python3.10/site-packages/astromodels/functions/functions_1D/absorption.py#33\" target=\"_blank\"><span style=\"color: #7f7f7f; text-decoration-color: #7f7f7f\">33</span></a>\n",
       "<span style=\"color: #00ff00; text-decoration-color: #00ff00\">         </span>         <span style=\"color: #c6c6c6; text-decoration-color: #c6c6c6; font-weight: bold\">available                                                                        </span><span style=\"color: #7f7f7f; text-decoration-color: #7f7f7f\">                </span>\n",
       "</pre>\n"
      ],
      "text/plain": [
       "\u001b[38;5;46m        \u001b[0m\u001b[38;5;46m \u001b[0m\u001b[38;5;134mWARNING \u001b[0m \u001b[1;38;5;251m The ebltable package is not available. Models that depend on it will not be    \u001b[0m\u001b[1;38;5;251m \u001b[0m\u001b]8;id=774068;file:///home/srinadb/miniconda3/envs/cosipy_developer/lib/python3.10/site-packages/astromodels/functions/functions_1D/absorption.py\u001b\\\u001b[2mabsorption.py\u001b[0m\u001b]8;;\u001b\\\u001b[2m:\u001b[0m\u001b]8;id=91408;file:///home/srinadb/miniconda3/envs/cosipy_developer/lib/python3.10/site-packages/astromodels/functions/functions_1D/absorption.py#33\u001b\\\u001b[2m33\u001b[0m\u001b]8;;\u001b\\\n",
       "\u001b[38;5;46m         \u001b[0m         \u001b[1;38;5;251mavailable                                                                       \u001b[0m\u001b[1;38;5;251m \u001b[0m\u001b[2m                \u001b[0m\n"
      ]
     },
     "metadata": {},
     "output_type": "display_data"
    },
    {
     "data": {
      "text/html": [
       "<pre style=\"white-space:pre;overflow-x:auto;line-height:normal;font-family:Menlo,'DejaVu Sans Mono',consolas,'Courier New',monospace\"><span style=\"color: #00ff00; text-decoration-color: #00ff00\">         </span><span style=\"color: #00ffaf; text-decoration-color: #00ffaf\">INFO    </span> <span style=\"color: #c6c6c6; text-decoration-color: #c6c6c6; font-weight: bold\"> Starting 3ML!                                                                     </span><a href=\"file:///home/srinadb/miniconda3/envs/cosipy_developer/lib/python3.10/site-packages/threeML/__init__.py\" target=\"_blank\"><span style=\"color: #7f7f7f; text-decoration-color: #7f7f7f\">__init__.py</span></a><span style=\"color: #7f7f7f; text-decoration-color: #7f7f7f\">:</span><a href=\"file:///home/srinadb/miniconda3/envs/cosipy_developer/lib/python3.10/site-packages/threeML/__init__.py#39\" target=\"_blank\"><span style=\"color: #7f7f7f; text-decoration-color: #7f7f7f\">39</span></a>\n",
       "</pre>\n"
      ],
      "text/plain": [
       "\u001b[38;5;46m        \u001b[0m\u001b[38;5;46m \u001b[0m\u001b[38;5;49mINFO    \u001b[0m \u001b[1;38;5;251m Starting 3ML!                                                                    \u001b[0m\u001b[1;38;5;251m \u001b[0m\u001b]8;id=19627;file:///home/srinadb/miniconda3/envs/cosipy_developer/lib/python3.10/site-packages/threeML/__init__.py\u001b\\\u001b[2m__init__.py\u001b[0m\u001b]8;;\u001b\\\u001b[2m:\u001b[0m\u001b]8;id=934328;file:///home/srinadb/miniconda3/envs/cosipy_developer/lib/python3.10/site-packages/threeML/__init__.py#39\u001b\\\u001b[2m39\u001b[0m\u001b]8;;\u001b\\\n"
      ]
     },
     "metadata": {},
     "output_type": "display_data"
    },
    {
     "data": {
      "text/html": [
       "<pre style=\"white-space:pre;overflow-x:auto;line-height:normal;font-family:Menlo,'DejaVu Sans Mono',consolas,'Courier New',monospace\"><span style=\"color: #00ff00; text-decoration-color: #00ff00\">         </span><span style=\"color: #af5fd7; text-decoration-color: #af5fd7\">WARNING </span> <span style=\"color: #c6c6c6; text-decoration-color: #c6c6c6; font-weight: bold\"> WARNINGs here are </span><span style=\"color: #800000; text-decoration-color: #800000; font-weight: bold\">NOT</span><span style=\"color: #c6c6c6; text-decoration-color: #c6c6c6; font-weight: bold\"> errors                                                      </span><a href=\"file:///home/srinadb/miniconda3/envs/cosipy_developer/lib/python3.10/site-packages/threeML/__init__.py\" target=\"_blank\"><span style=\"color: #7f7f7f; text-decoration-color: #7f7f7f\">__init__.py</span></a><span style=\"color: #7f7f7f; text-decoration-color: #7f7f7f\">:</span><a href=\"file:///home/srinadb/miniconda3/envs/cosipy_developer/lib/python3.10/site-packages/threeML/__init__.py#40\" target=\"_blank\"><span style=\"color: #7f7f7f; text-decoration-color: #7f7f7f\">40</span></a>\n",
       "</pre>\n"
      ],
      "text/plain": [
       "\u001b[38;5;46m        \u001b[0m\u001b[38;5;46m \u001b[0m\u001b[38;5;134mWARNING \u001b[0m \u001b[1;38;5;251m WARNINGs here are \u001b[0m\u001b[1;31mNOT\u001b[0m\u001b[1;38;5;251m errors                                                     \u001b[0m\u001b[1;38;5;251m \u001b[0m\u001b]8;id=940848;file:///home/srinadb/miniconda3/envs/cosipy_developer/lib/python3.10/site-packages/threeML/__init__.py\u001b\\\u001b[2m__init__.py\u001b[0m\u001b]8;;\u001b\\\u001b[2m:\u001b[0m\u001b]8;id=208413;file:///home/srinadb/miniconda3/envs/cosipy_developer/lib/python3.10/site-packages/threeML/__init__.py#40\u001b\\\u001b[2m40\u001b[0m\u001b]8;;\u001b\\\n"
      ]
     },
     "metadata": {},
     "output_type": "display_data"
    },
    {
     "data": {
      "text/html": [
       "<pre style=\"white-space:pre;overflow-x:auto;line-height:normal;font-family:Menlo,'DejaVu Sans Mono',consolas,'Courier New',monospace\"><span style=\"color: #00ff00; text-decoration-color: #00ff00\">         </span><span style=\"color: #af5fd7; text-decoration-color: #af5fd7\">WARNING </span> <span style=\"color: #c6c6c6; text-decoration-color: #c6c6c6; font-weight: bold\"> but are inform you about optional packages that can be installed                  </span><a href=\"file:///home/srinadb/miniconda3/envs/cosipy_developer/lib/python3.10/site-packages/threeML/__init__.py\" target=\"_blank\"><span style=\"color: #7f7f7f; text-decoration-color: #7f7f7f\">__init__.py</span></a><span style=\"color: #7f7f7f; text-decoration-color: #7f7f7f\">:</span><a href=\"file:///home/srinadb/miniconda3/envs/cosipy_developer/lib/python3.10/site-packages/threeML/__init__.py#41\" target=\"_blank\"><span style=\"color: #7f7f7f; text-decoration-color: #7f7f7f\">41</span></a>\n",
       "</pre>\n"
      ],
      "text/plain": [
       "\u001b[38;5;46m        \u001b[0m\u001b[38;5;46m \u001b[0m\u001b[38;5;134mWARNING \u001b[0m \u001b[1;38;5;251m but are inform you about optional packages that can be installed                 \u001b[0m\u001b[1;38;5;251m \u001b[0m\u001b]8;id=953447;file:///home/srinadb/miniconda3/envs/cosipy_developer/lib/python3.10/site-packages/threeML/__init__.py\u001b\\\u001b[2m__init__.py\u001b[0m\u001b]8;;\u001b\\\u001b[2m:\u001b[0m\u001b]8;id=488935;file:///home/srinadb/miniconda3/envs/cosipy_developer/lib/python3.10/site-packages/threeML/__init__.py#41\u001b\\\u001b[2m41\u001b[0m\u001b]8;;\u001b\\\n"
      ]
     },
     "metadata": {},
     "output_type": "display_data"
    },
    {
     "data": {
      "text/html": [
       "<pre style=\"white-space:pre;overflow-x:auto;line-height:normal;font-family:Menlo,'DejaVu Sans Mono',consolas,'Courier New',monospace\"><span style=\"color: #00ff00; text-decoration-color: #00ff00\">         </span><span style=\"color: #af5fd7; text-decoration-color: #af5fd7\">WARNING </span> <span style=\"color: #c6c6c6; text-decoration-color: #c6c6c6; font-weight: bold\"> </span><span style=\"color: #800000; text-decoration-color: #800000; font-weight: bold\"> to disable these messages, turn off start_warning in your config file</span><span style=\"color: #c6c6c6; text-decoration-color: #c6c6c6; font-weight: bold\">            </span><a href=\"file:///home/srinadb/miniconda3/envs/cosipy_developer/lib/python3.10/site-packages/threeML/__init__.py\" target=\"_blank\"><span style=\"color: #7f7f7f; text-decoration-color: #7f7f7f\">__init__.py</span></a><span style=\"color: #7f7f7f; text-decoration-color: #7f7f7f\">:</span><a href=\"file:///home/srinadb/miniconda3/envs/cosipy_developer/lib/python3.10/site-packages/threeML/__init__.py#44\" target=\"_blank\"><span style=\"color: #7f7f7f; text-decoration-color: #7f7f7f\">44</span></a>\n",
       "</pre>\n"
      ],
      "text/plain": [
       "\u001b[38;5;46m        \u001b[0m\u001b[38;5;46m \u001b[0m\u001b[38;5;134mWARNING \u001b[0m \u001b[1;38;5;251m \u001b[0m\u001b[1;31m to disable these messages, turn off start_warning in your config file\u001b[0m\u001b[1;38;5;251m           \u001b[0m\u001b[1;38;5;251m \u001b[0m\u001b]8;id=991150;file:///home/srinadb/miniconda3/envs/cosipy_developer/lib/python3.10/site-packages/threeML/__init__.py\u001b\\\u001b[2m__init__.py\u001b[0m\u001b]8;;\u001b\\\u001b[2m:\u001b[0m\u001b]8;id=952459;file:///home/srinadb/miniconda3/envs/cosipy_developer/lib/python3.10/site-packages/threeML/__init__.py#44\u001b\\\u001b[2m44\u001b[0m\u001b]8;;\u001b\\\n"
      ]
     },
     "metadata": {},
     "output_type": "display_data"
    },
    {
     "data": {
      "text/html": [
       "<pre style=\"white-space:pre;overflow-x:auto;line-height:normal;font-family:Menlo,'DejaVu Sans Mono',consolas,'Courier New',monospace\"><span style=\"color: #00ff00; text-decoration-color: #00ff00\">08:01:28 </span><span style=\"color: #af5fd7; text-decoration-color: #af5fd7\">WARNING </span> <span style=\"color: #c6c6c6; text-decoration-color: #c6c6c6; font-weight: bold\"> ROOT minimizer not available                                                </span><a href=\"file:///home/srinadb/miniconda3/envs/cosipy_developer/lib/python3.10/site-packages/threeML/minimizer/minimization.py\" target=\"_blank\"><span style=\"color: #7f7f7f; text-decoration-color: #7f7f7f\">minimization.py</span></a><span style=\"color: #7f7f7f; text-decoration-color: #7f7f7f\">:</span><a href=\"file:///home/srinadb/miniconda3/envs/cosipy_developer/lib/python3.10/site-packages/threeML/minimizer/minimization.py#1345\" target=\"_blank\"><span style=\"color: #7f7f7f; text-decoration-color: #7f7f7f\">1345</span></a>\n",
       "</pre>\n"
      ],
      "text/plain": [
       "\u001b[38;5;46m08:01:28\u001b[0m\u001b[38;5;46m \u001b[0m\u001b[38;5;134mWARNING \u001b[0m \u001b[1;38;5;251m ROOT minimizer not available                                               \u001b[0m\u001b[1;38;5;251m \u001b[0m\u001b]8;id=630969;file:///home/srinadb/miniconda3/envs/cosipy_developer/lib/python3.10/site-packages/threeML/minimizer/minimization.py\u001b\\\u001b[2mminimization.py\u001b[0m\u001b]8;;\u001b\\\u001b[2m:\u001b[0m\u001b]8;id=810178;file:///home/srinadb/miniconda3/envs/cosipy_developer/lib/python3.10/site-packages/threeML/minimizer/minimization.py#1345\u001b\\\u001b[2m1345\u001b[0m\u001b]8;;\u001b\\\n"
      ]
     },
     "metadata": {},
     "output_type": "display_data"
    },
    {
     "data": {
      "text/html": [
       "<pre style=\"white-space:pre;overflow-x:auto;line-height:normal;font-family:Menlo,'DejaVu Sans Mono',consolas,'Courier New',monospace\"><span style=\"color: #00ff00; text-decoration-color: #00ff00\">         </span><span style=\"color: #af5fd7; text-decoration-color: #af5fd7\">WARNING </span> <span style=\"color: #c6c6c6; text-decoration-color: #c6c6c6; font-weight: bold\"> Multinest minimizer not available                                           </span><a href=\"file:///home/srinadb/miniconda3/envs/cosipy_developer/lib/python3.10/site-packages/threeML/minimizer/minimization.py\" target=\"_blank\"><span style=\"color: #7f7f7f; text-decoration-color: #7f7f7f\">minimization.py</span></a><span style=\"color: #7f7f7f; text-decoration-color: #7f7f7f\">:</span><a href=\"file:///home/srinadb/miniconda3/envs/cosipy_developer/lib/python3.10/site-packages/threeML/minimizer/minimization.py#1357\" target=\"_blank\"><span style=\"color: #7f7f7f; text-decoration-color: #7f7f7f\">1357</span></a>\n",
       "</pre>\n"
      ],
      "text/plain": [
       "\u001b[38;5;46m        \u001b[0m\u001b[38;5;46m \u001b[0m\u001b[38;5;134mWARNING \u001b[0m \u001b[1;38;5;251m Multinest minimizer not available                                          \u001b[0m\u001b[1;38;5;251m \u001b[0m\u001b]8;id=890972;file:///home/srinadb/miniconda3/envs/cosipy_developer/lib/python3.10/site-packages/threeML/minimizer/minimization.py\u001b\\\u001b[2mminimization.py\u001b[0m\u001b]8;;\u001b\\\u001b[2m:\u001b[0m\u001b]8;id=730152;file:///home/srinadb/miniconda3/envs/cosipy_developer/lib/python3.10/site-packages/threeML/minimizer/minimization.py#1357\u001b\\\u001b[2m1357\u001b[0m\u001b]8;;\u001b\\\n"
      ]
     },
     "metadata": {},
     "output_type": "display_data"
    },
    {
     "data": {
      "text/html": [
       "<pre style=\"white-space:pre;overflow-x:auto;line-height:normal;font-family:Menlo,'DejaVu Sans Mono',consolas,'Courier New',monospace\"><span style=\"color: #00ff00; text-decoration-color: #00ff00\">         </span><span style=\"color: #af5fd7; text-decoration-color: #af5fd7\">WARNING </span> <span style=\"color: #c6c6c6; text-decoration-color: #c6c6c6; font-weight: bold\"> PyGMO is not available                                                      </span><a href=\"file:///home/srinadb/miniconda3/envs/cosipy_developer/lib/python3.10/site-packages/threeML/minimizer/minimization.py\" target=\"_blank\"><span style=\"color: #7f7f7f; text-decoration-color: #7f7f7f\">minimization.py</span></a><span style=\"color: #7f7f7f; text-decoration-color: #7f7f7f\">:</span><a href=\"file:///home/srinadb/miniconda3/envs/cosipy_developer/lib/python3.10/site-packages/threeML/minimizer/minimization.py#1369\" target=\"_blank\"><span style=\"color: #7f7f7f; text-decoration-color: #7f7f7f\">1369</span></a>\n",
       "</pre>\n"
      ],
      "text/plain": [
       "\u001b[38;5;46m        \u001b[0m\u001b[38;5;46m \u001b[0m\u001b[38;5;134mWARNING \u001b[0m \u001b[1;38;5;251m PyGMO is not available                                                     \u001b[0m\u001b[1;38;5;251m \u001b[0m\u001b]8;id=777386;file:///home/srinadb/miniconda3/envs/cosipy_developer/lib/python3.10/site-packages/threeML/minimizer/minimization.py\u001b\\\u001b[2mminimization.py\u001b[0m\u001b]8;;\u001b\\\u001b[2m:\u001b[0m\u001b]8;id=674869;file:///home/srinadb/miniconda3/envs/cosipy_developer/lib/python3.10/site-packages/threeML/minimizer/minimization.py#1369\u001b\\\u001b[2m1369\u001b[0m\u001b]8;;\u001b\\\n"
      ]
     },
     "metadata": {},
     "output_type": "display_data"
    },
    {
     "data": {
      "text/html": [
       "<pre style=\"white-space:pre;overflow-x:auto;line-height:normal;font-family:Menlo,'DejaVu Sans Mono',consolas,'Courier New',monospace\"><span style=\"color: #00ff00; text-decoration-color: #00ff00\">         </span><span style=\"color: #af5fd7; text-decoration-color: #af5fd7\">WARNING </span> <span style=\"color: #c6c6c6; text-decoration-color: #c6c6c6; font-weight: bold\"> The cthreeML package is not installed. You will not be able to use plugins which  </span><a href=\"file:///home/srinadb/miniconda3/envs/cosipy_developer/lib/python3.10/site-packages/threeML/__init__.py\" target=\"_blank\"><span style=\"color: #7f7f7f; text-decoration-color: #7f7f7f\">__init__.py</span></a><span style=\"color: #7f7f7f; text-decoration-color: #7f7f7f\">:</span><a href=\"file:///home/srinadb/miniconda3/envs/cosipy_developer/lib/python3.10/site-packages/threeML/__init__.py#94\" target=\"_blank\"><span style=\"color: #7f7f7f; text-decoration-color: #7f7f7f\">94</span></a>\n",
       "<span style=\"color: #00ff00; text-decoration-color: #00ff00\">         </span>         <span style=\"color: #c6c6c6; text-decoration-color: #c6c6c6; font-weight: bold\">require the C/C++ interface (currently HAWC)                                       </span><span style=\"color: #7f7f7f; text-decoration-color: #7f7f7f\">              </span>\n",
       "</pre>\n"
      ],
      "text/plain": [
       "\u001b[38;5;46m        \u001b[0m\u001b[38;5;46m \u001b[0m\u001b[38;5;134mWARNING \u001b[0m \u001b[1;38;5;251m The cthreeML package is not installed. You will not be able to use plugins which \u001b[0m\u001b[1;38;5;251m \u001b[0m\u001b]8;id=376103;file:///home/srinadb/miniconda3/envs/cosipy_developer/lib/python3.10/site-packages/threeML/__init__.py\u001b\\\u001b[2m__init__.py\u001b[0m\u001b]8;;\u001b\\\u001b[2m:\u001b[0m\u001b]8;id=553032;file:///home/srinadb/miniconda3/envs/cosipy_developer/lib/python3.10/site-packages/threeML/__init__.py#94\u001b\\\u001b[2m94\u001b[0m\u001b]8;;\u001b\\\n",
       "\u001b[38;5;46m         \u001b[0m         \u001b[1;38;5;251mrequire the C/C++ interface \u001b[0m\u001b[1;38;5;251m(\u001b[0m\u001b[1;38;5;251mcurrently HAWC\u001b[0m\u001b[1;38;5;251m)\u001b[0m\u001b[1;38;5;251m                                      \u001b[0m\u001b[1;38;5;251m \u001b[0m\u001b[2m              \u001b[0m\n"
      ]
     },
     "metadata": {},
     "output_type": "display_data"
    },
    {
     "data": {
      "text/html": [
       "<pre style=\"white-space:pre;overflow-x:auto;line-height:normal;font-family:Menlo,'DejaVu Sans Mono',consolas,'Courier New',monospace\"><span style=\"color: #00ff00; text-decoration-color: #00ff00\">         </span><span style=\"color: #af5fd7; text-decoration-color: #af5fd7\">WARNING </span> <span style=\"color: #c6c6c6; text-decoration-color: #c6c6c6; font-weight: bold\"> Could not import plugin FermiLATLike.py. Do you have the relative instrument     </span><a href=\"file:///home/srinadb/miniconda3/envs/cosipy_developer/lib/python3.10/site-packages/threeML/__init__.py\" target=\"_blank\"><span style=\"color: #7f7f7f; text-decoration-color: #7f7f7f\">__init__.py</span></a><span style=\"color: #7f7f7f; text-decoration-color: #7f7f7f\">:</span><a href=\"file:///home/srinadb/miniconda3/envs/cosipy_developer/lib/python3.10/site-packages/threeML/__init__.py#144\" target=\"_blank\"><span style=\"color: #7f7f7f; text-decoration-color: #7f7f7f\">144</span></a>\n",
       "<span style=\"color: #00ff00; text-decoration-color: #00ff00\">         </span>         <span style=\"color: #c6c6c6; text-decoration-color: #c6c6c6; font-weight: bold\">software installed and configured?                                                </span><span style=\"color: #7f7f7f; text-decoration-color: #7f7f7f\">               </span>\n",
       "</pre>\n"
      ],
      "text/plain": [
       "\u001b[38;5;46m        \u001b[0m\u001b[38;5;46m \u001b[0m\u001b[38;5;134mWARNING \u001b[0m \u001b[1;38;5;251m Could not import plugin FermiLATLike.py. Do you have the relative instrument    \u001b[0m\u001b[1;38;5;251m \u001b[0m\u001b]8;id=80953;file:///home/srinadb/miniconda3/envs/cosipy_developer/lib/python3.10/site-packages/threeML/__init__.py\u001b\\\u001b[2m__init__.py\u001b[0m\u001b]8;;\u001b\\\u001b[2m:\u001b[0m\u001b]8;id=613150;file:///home/srinadb/miniconda3/envs/cosipy_developer/lib/python3.10/site-packages/threeML/__init__.py#144\u001b\\\u001b[2m144\u001b[0m\u001b]8;;\u001b\\\n",
       "\u001b[38;5;46m         \u001b[0m         \u001b[1;38;5;251msoftware installed and configured?                                               \u001b[0m\u001b[1;38;5;251m \u001b[0m\u001b[2m               \u001b[0m\n"
      ]
     },
     "metadata": {},
     "output_type": "display_data"
    },
    {
     "data": {
      "text/html": [
       "<pre style=\"white-space:pre;overflow-x:auto;line-height:normal;font-family:Menlo,'DejaVu Sans Mono',consolas,'Courier New',monospace\"><span style=\"color: #00ff00; text-decoration-color: #00ff00\">         </span><span style=\"color: #af5fd7; text-decoration-color: #af5fd7\">WARNING </span> <span style=\"color: #c6c6c6; text-decoration-color: #c6c6c6; font-weight: bold\"> Could not import plugin HAWCLike.py. Do you have the relative instrument         </span><a href=\"file:///home/srinadb/miniconda3/envs/cosipy_developer/lib/python3.10/site-packages/threeML/__init__.py\" target=\"_blank\"><span style=\"color: #7f7f7f; text-decoration-color: #7f7f7f\">__init__.py</span></a><span style=\"color: #7f7f7f; text-decoration-color: #7f7f7f\">:</span><a href=\"file:///home/srinadb/miniconda3/envs/cosipy_developer/lib/python3.10/site-packages/threeML/__init__.py#144\" target=\"_blank\"><span style=\"color: #7f7f7f; text-decoration-color: #7f7f7f\">144</span></a>\n",
       "<span style=\"color: #00ff00; text-decoration-color: #00ff00\">         </span>         <span style=\"color: #c6c6c6; text-decoration-color: #c6c6c6; font-weight: bold\">software installed and configured?                                                </span><span style=\"color: #7f7f7f; text-decoration-color: #7f7f7f\">               </span>\n",
       "</pre>\n"
      ],
      "text/plain": [
       "\u001b[38;5;46m        \u001b[0m\u001b[38;5;46m \u001b[0m\u001b[38;5;134mWARNING \u001b[0m \u001b[1;38;5;251m Could not import plugin HAWCLike.py. Do you have the relative instrument        \u001b[0m\u001b[1;38;5;251m \u001b[0m\u001b]8;id=70001;file:///home/srinadb/miniconda3/envs/cosipy_developer/lib/python3.10/site-packages/threeML/__init__.py\u001b\\\u001b[2m__init__.py\u001b[0m\u001b]8;;\u001b\\\u001b[2m:\u001b[0m\u001b]8;id=159262;file:///home/srinadb/miniconda3/envs/cosipy_developer/lib/python3.10/site-packages/threeML/__init__.py#144\u001b\\\u001b[2m144\u001b[0m\u001b]8;;\u001b\\\n",
       "\u001b[38;5;46m         \u001b[0m         \u001b[1;38;5;251msoftware installed and configured?                                               \u001b[0m\u001b[1;38;5;251m \u001b[0m\u001b[2m               \u001b[0m\n"
      ]
     },
     "metadata": {},
     "output_type": "display_data"
    },
    {
     "data": {
      "text/html": [
       "<pre style=\"white-space:pre;overflow-x:auto;line-height:normal;font-family:Menlo,'DejaVu Sans Mono',consolas,'Courier New',monospace\"><span style=\"color: #00ff00; text-decoration-color: #00ff00\">         </span><span style=\"color: #af5fd7; text-decoration-color: #af5fd7\">WARNING </span> <span style=\"color: #c6c6c6; text-decoration-color: #c6c6c6; font-weight: bold\"> No fermitools installed                                              </span><a href=\"file:///home/srinadb/miniconda3/envs/cosipy_developer/lib/python3.10/site-packages/threeML/utils/data_builders/fermi/lat_transient_builder.py\" target=\"_blank\"><span style=\"color: #7f7f7f; text-decoration-color: #7f7f7f\">lat_transient_builder.py</span></a><span style=\"color: #7f7f7f; text-decoration-color: #7f7f7f\">:</span><a href=\"file:///home/srinadb/miniconda3/envs/cosipy_developer/lib/python3.10/site-packages/threeML/utils/data_builders/fermi/lat_transient_builder.py#44\" target=\"_blank\"><span style=\"color: #7f7f7f; text-decoration-color: #7f7f7f\">44</span></a>\n",
       "</pre>\n"
      ],
      "text/plain": [
       "\u001b[38;5;46m        \u001b[0m\u001b[38;5;46m \u001b[0m\u001b[38;5;134mWARNING \u001b[0m \u001b[1;38;5;251m No fermitools installed                                             \u001b[0m\u001b[1;38;5;251m \u001b[0m\u001b]8;id=784966;file:///home/srinadb/miniconda3/envs/cosipy_developer/lib/python3.10/site-packages/threeML/utils/data_builders/fermi/lat_transient_builder.py\u001b\\\u001b[2mlat_transient_builder.py\u001b[0m\u001b]8;;\u001b\\\u001b[2m:\u001b[0m\u001b]8;id=393553;file:///home/srinadb/miniconda3/envs/cosipy_developer/lib/python3.10/site-packages/threeML/utils/data_builders/fermi/lat_transient_builder.py#44\u001b\\\u001b[2m44\u001b[0m\u001b]8;;\u001b\\\n"
      ]
     },
     "metadata": {},
     "output_type": "display_data"
    },
    {
     "data": {
      "text/html": [
       "<pre style=\"white-space:pre;overflow-x:auto;line-height:normal;font-family:Menlo,'DejaVu Sans Mono',consolas,'Courier New',monospace\"><span style=\"color: #00ff00; text-decoration-color: #00ff00\">         </span><span style=\"color: #af5fd7; text-decoration-color: #af5fd7\">WARNING </span> <span style=\"color: #c6c6c6; text-decoration-color: #c6c6c6; font-weight: bold\"> Env. variable OMP_NUM_THREADS is not set. Please set it to </span><span style=\"color: #c0c0c0; text-decoration-color: #c0c0c0; font-weight: bold\">1</span><span style=\"color: #c6c6c6; text-decoration-color: #c6c6c6; font-weight: bold\"> for optimal         </span><a href=\"file:///home/srinadb/miniconda3/envs/cosipy_developer/lib/python3.10/site-packages/threeML/__init__.py\" target=\"_blank\"><span style=\"color: #7f7f7f; text-decoration-color: #7f7f7f\">__init__.py</span></a><span style=\"color: #7f7f7f; text-decoration-color: #7f7f7f\">:</span><a href=\"file:///home/srinadb/miniconda3/envs/cosipy_developer/lib/python3.10/site-packages/threeML/__init__.py#387\" target=\"_blank\"><span style=\"color: #7f7f7f; text-decoration-color: #7f7f7f\">387</span></a>\n",
       "<span style=\"color: #00ff00; text-decoration-color: #00ff00\">         </span>         <span style=\"color: #c6c6c6; text-decoration-color: #c6c6c6; font-weight: bold\">performances in 3ML                                                               </span><span style=\"color: #7f7f7f; text-decoration-color: #7f7f7f\">               </span>\n",
       "</pre>\n"
      ],
      "text/plain": [
       "\u001b[38;5;46m        \u001b[0m\u001b[38;5;46m \u001b[0m\u001b[38;5;134mWARNING \u001b[0m \u001b[1;38;5;251m Env. variable OMP_NUM_THREADS is not set. Please set it to \u001b[0m\u001b[1;37m1\u001b[0m\u001b[1;38;5;251m for optimal        \u001b[0m\u001b[1;38;5;251m \u001b[0m\u001b]8;id=282445;file:///home/srinadb/miniconda3/envs/cosipy_developer/lib/python3.10/site-packages/threeML/__init__.py\u001b\\\u001b[2m__init__.py\u001b[0m\u001b]8;;\u001b\\\u001b[2m:\u001b[0m\u001b]8;id=340190;file:///home/srinadb/miniconda3/envs/cosipy_developer/lib/python3.10/site-packages/threeML/__init__.py#387\u001b\\\u001b[2m387\u001b[0m\u001b]8;;\u001b\\\n",
       "\u001b[38;5;46m         \u001b[0m         \u001b[1;38;5;251mperformances in 3ML                                                              \u001b[0m\u001b[1;38;5;251m \u001b[0m\u001b[2m               \u001b[0m\n"
      ]
     },
     "metadata": {},
     "output_type": "display_data"
    },
    {
     "data": {
      "text/html": [
       "<pre style=\"white-space:pre;overflow-x:auto;line-height:normal;font-family:Menlo,'DejaVu Sans Mono',consolas,'Courier New',monospace\"><span style=\"color: #00ff00; text-decoration-color: #00ff00\">         </span><span style=\"color: #af5fd7; text-decoration-color: #af5fd7\">WARNING </span> <span style=\"color: #c6c6c6; text-decoration-color: #c6c6c6; font-weight: bold\"> Env. variable MKL_NUM_THREADS is not set. Please set it to </span><span style=\"color: #c0c0c0; text-decoration-color: #c0c0c0; font-weight: bold\">1</span><span style=\"color: #c6c6c6; text-decoration-color: #c6c6c6; font-weight: bold\"> for optimal         </span><a href=\"file:///home/srinadb/miniconda3/envs/cosipy_developer/lib/python3.10/site-packages/threeML/__init__.py\" target=\"_blank\"><span style=\"color: #7f7f7f; text-decoration-color: #7f7f7f\">__init__.py</span></a><span style=\"color: #7f7f7f; text-decoration-color: #7f7f7f\">:</span><a href=\"file:///home/srinadb/miniconda3/envs/cosipy_developer/lib/python3.10/site-packages/threeML/__init__.py#387\" target=\"_blank\"><span style=\"color: #7f7f7f; text-decoration-color: #7f7f7f\">387</span></a>\n",
       "<span style=\"color: #00ff00; text-decoration-color: #00ff00\">         </span>         <span style=\"color: #c6c6c6; text-decoration-color: #c6c6c6; font-weight: bold\">performances in 3ML                                                               </span><span style=\"color: #7f7f7f; text-decoration-color: #7f7f7f\">               </span>\n",
       "</pre>\n"
      ],
      "text/plain": [
       "\u001b[38;5;46m        \u001b[0m\u001b[38;5;46m \u001b[0m\u001b[38;5;134mWARNING \u001b[0m \u001b[1;38;5;251m Env. variable MKL_NUM_THREADS is not set. Please set it to \u001b[0m\u001b[1;37m1\u001b[0m\u001b[1;38;5;251m for optimal        \u001b[0m\u001b[1;38;5;251m \u001b[0m\u001b]8;id=522652;file:///home/srinadb/miniconda3/envs/cosipy_developer/lib/python3.10/site-packages/threeML/__init__.py\u001b\\\u001b[2m__init__.py\u001b[0m\u001b]8;;\u001b\\\u001b[2m:\u001b[0m\u001b]8;id=206266;file:///home/srinadb/miniconda3/envs/cosipy_developer/lib/python3.10/site-packages/threeML/__init__.py#387\u001b\\\u001b[2m387\u001b[0m\u001b]8;;\u001b\\\n",
       "\u001b[38;5;46m         \u001b[0m         \u001b[1;38;5;251mperformances in 3ML                                                              \u001b[0m\u001b[1;38;5;251m \u001b[0m\u001b[2m               \u001b[0m\n"
      ]
     },
     "metadata": {},
     "output_type": "display_data"
    },
    {
     "data": {
      "text/html": [
       "<pre style=\"white-space:pre;overflow-x:auto;line-height:normal;font-family:Menlo,'DejaVu Sans Mono',consolas,'Courier New',monospace\"><span style=\"color: #00ff00; text-decoration-color: #00ff00\">         </span><span style=\"color: #af5fd7; text-decoration-color: #af5fd7\">WARNING </span> <span style=\"color: #c6c6c6; text-decoration-color: #c6c6c6; font-weight: bold\"> Env. variable NUMEXPR_NUM_THREADS is not set. Please set it to </span><span style=\"color: #c0c0c0; text-decoration-color: #c0c0c0; font-weight: bold\">1</span><span style=\"color: #c6c6c6; text-decoration-color: #c6c6c6; font-weight: bold\"> for optimal     </span><a href=\"file:///home/srinadb/miniconda3/envs/cosipy_developer/lib/python3.10/site-packages/threeML/__init__.py\" target=\"_blank\"><span style=\"color: #7f7f7f; text-decoration-color: #7f7f7f\">__init__.py</span></a><span style=\"color: #7f7f7f; text-decoration-color: #7f7f7f\">:</span><a href=\"file:///home/srinadb/miniconda3/envs/cosipy_developer/lib/python3.10/site-packages/threeML/__init__.py#387\" target=\"_blank\"><span style=\"color: #7f7f7f; text-decoration-color: #7f7f7f\">387</span></a>\n",
       "<span style=\"color: #00ff00; text-decoration-color: #00ff00\">         </span>         <span style=\"color: #c6c6c6; text-decoration-color: #c6c6c6; font-weight: bold\">performances in 3ML                                                               </span><span style=\"color: #7f7f7f; text-decoration-color: #7f7f7f\">               </span>\n",
       "</pre>\n"
      ],
      "text/plain": [
       "\u001b[38;5;46m        \u001b[0m\u001b[38;5;46m \u001b[0m\u001b[38;5;134mWARNING \u001b[0m \u001b[1;38;5;251m Env. variable NUMEXPR_NUM_THREADS is not set. Please set it to \u001b[0m\u001b[1;37m1\u001b[0m\u001b[1;38;5;251m for optimal    \u001b[0m\u001b[1;38;5;251m \u001b[0m\u001b]8;id=916840;file:///home/srinadb/miniconda3/envs/cosipy_developer/lib/python3.10/site-packages/threeML/__init__.py\u001b\\\u001b[2m__init__.py\u001b[0m\u001b]8;;\u001b\\\u001b[2m:\u001b[0m\u001b]8;id=750505;file:///home/srinadb/miniconda3/envs/cosipy_developer/lib/python3.10/site-packages/threeML/__init__.py#387\u001b\\\u001b[2m387\u001b[0m\u001b]8;;\u001b\\\n",
       "\u001b[38;5;46m         \u001b[0m         \u001b[1;38;5;251mperformances in 3ML                                                              \u001b[0m\u001b[1;38;5;251m \u001b[0m\u001b[2m               \u001b[0m\n"
      ]
     },
     "metadata": {},
     "output_type": "display_data"
    }
   ],
   "source": [
    "from cosipy import COSILike, BinnedData\n",
    "from cosipy.spacecraftfile import SpacecraftFile\n",
    "from cosipy.response.FullDetectorResponse import FullDetectorResponse\n",
    "from cosipy.util import fetch_wasabi_file\n",
    "\n",
    "from scoords import SpacecraftFrame\n",
    "\n",
    "from astropy.time import Time\n",
    "import astropy.units as u\n",
    "from astropy.coordinates import SkyCoord\n",
    "from astropy.stats import poisson_conf_interval\n",
    "\n",
    "import numpy as np\n",
    "import matplotlib.pyplot as plt\n",
    "%matplotlib inline\n",
    "\n",
    "from threeML import Band, PointSource, Model, JointLikelihood, DataList\n",
    "from cosipy import Band_Eflux\n",
    "from astromodels import Parameter\n",
    "\n",
    "from pathlib import Path\n",
    "\n",
    "import os\n",
    "import corner\n",
    "from threeML import*\n"
   ]
  },
  {
   "cell_type": "markdown",
   "id": "8d1c0168-9823-4eb7-930e-5dc61d6448ca",
   "metadata": {},
   "source": [
    "## Get the data"
   ]
  },
  {
   "cell_type": "markdown",
   "id": "a57e30ec-9301-441c-a627-6ad0355aca22",
   "metadata": {},
   "source": [
    "Define the path to the directory to save the data. The data can be downloaded by running the cells below. Each respective cell also gives the wasabi file path and file size."
   ]
  },
  {
   "cell_type": "code",
   "execution_count": 2,
   "id": "5c765257-5a23-41bd-af67-4e461e3e6e4e",
   "metadata": {
    "tags": []
   },
   "outputs": [],
   "source": [
    "data_path = Path(\"/home/srinadb/cosipy/docs/tutorials/spectral_fits/dataset\")\n"
   ]
  },
  {
   "cell_type": "markdown",
   "id": "99500a01-882d-4053-a595-374202b87298",
   "metadata": {},
   "source": [
    "Download the source file (9.7 MB)"
   ]
  },
  {
   "cell_type": "code",
   "execution_count": 3,
   "id": "36f96db4-640d-4233-8b18-a81bafcfd009",
   "metadata": {
    "tags": []
   },
   "outputs": [
    {
     "name": "stdout",
     "output_type": "stream",
     "text": [
      "{\n",
      "    \"AcceptRanges\": \"bytes\",\n",
      "    \"LastModified\": \"Thu, 13 Feb 2025 17:00:49 GMT\",\n",
      "    \"ContentLength\": 18935412,\n",
      "    \"ETag\": \"\\\"3ddeed0ad1e01accc413fa5cffcfc13e\\\"\",\n",
      "    \"ContentType\": \"application/gzip\",\n",
      "    \"Metadata\": {}\n",
      "}\n"
     ]
    }
   ],
   "source": [
    "# 4C+21.35 source\n",
    "# File size: 9.7 MB\n",
    "\n",
    "fetch_wasabi_file('COSI-SMEX/DC3/Data/Sources/4C21p35_flare_3months_unbinned_data_filtered_with_SAAcut.fits.gz', output=str(data_path / '4C21p35_flare_3months_unbinned_data_filtered_with_SAAcut.fits.gz'))\n"
   ]
  },
  {
   "cell_type": "markdown",
   "id": "c1c6d3c6-7d21-4ac5-b0c9-b45756c0586f",
   "metadata": {
    "tags": []
   },
   "source": [
    "Download the background file (2.7 GB)"
   ]
  },
  {
   "cell_type": "code",
   "execution_count": 4,
   "id": "51628f7e-cbab-4755-8cad-bf9af9a2a5f9",
   "metadata": {
    "tags": []
   },
   "outputs": [],
   "source": [
    "# albedo photons\n",
    "# File size: 2.7 GB\n",
    "# fetch_wasabi_file('COSI-SMEX/DC3/Data/Backgrounds/Ge/AlbedoPhotons_3months_unbinned_data_filtered_with_SAAcut.fits.gz', output=str(data_path / 'AlbedoPhotons_3months_unbinned_data_filtered_with_SAAcut.fits.gz'))\n"
   ]
  },
  {
   "cell_type": "markdown",
   "id": "f1264463-2db3-4da8-a5d5-743607e7b2eb",
   "metadata": {},
   "source": [
    "Create the combined data\n",
    "\n",
    "We will combine the 4C+21.35 source and the albedo photon background, which will be used as our dataset. This only needs to be done once. You can skip this cell if you already have the combined data file.\n"
   ]
  },
  {
   "cell_type": "code",
   "execution_count": 5,
   "id": "2f6ecc28-d928-4dc2-ad36-504e41175574",
   "metadata": {
    "tags": []
   },
   "outputs": [],
   "source": [
    "# Define instance of binned data class:\n",
    "instance = BinnedData(\"blazar.yaml\")\n",
    "\n",
    "# Combine files:\n",
    "input_files = [\"/home/srinadb/cosipy/docs/tutorials/spectral_fits/dataset/AlbedoPhotons_3months_unbinned_data_filtered_with_SAAcut.fits.gz\",\"/home/srinadb/cosipy/docs/tutorials/spectral_fits/dataset/4C21p35_flare_3months_unbinned_data_filtered_with_SAAcut.fits.gz\"]\n",
    "instance.combine_unbinned_data(input_files, output_name=\"4C21p35_flare_AlbedoPhoton_bkg\")\n"
   ]
  },
  {
   "cell_type": "markdown",
   "id": "095adbe9-d0d0-4794-8912-3b3f7390d7b4",
   "metadata": {},
   "source": [
    "Bin the data\n",
    "\n",
    "You only have to do this once, and after you can start by loading the binned data directly. You can skip this cell if you already have the binned data files."
   ]
  },
  {
   "cell_type": "code",
   "execution_count": 6,
   "id": "36eda626-4ee6-4e19-bb7e-16f5293a2832",
   "metadata": {
    "tags": []
   },
   "outputs": [],
   "source": [
    "# Bin 4C+21.35:\n",
    "flare = BinnedData(\"blazar.yaml\")\n",
    "flare.get_binned_data(unbinned_data=\"/home/srinadb/cosipy/docs/tutorials/spectral_fits/dataset/4C21p35_flare_3months_unbinned_data_filtered_with_SAAcut.fits.gz\", output_name=\"4C21p35_flare_binned_data\")\n"
   ]
  },
  {
   "cell_type": "code",
   "execution_count": 7,
   "id": "07cd655a-3dc0-48f1-96bb-1746a112b43f",
   "metadata": {
    "tags": []
   },
   "outputs": [],
   "source": [
    "# Bin background:\n",
    "# bg_tot = BinnedData(\"blazar.yaml\")\n",
    "# bg_tot.get_binned_data(unbinned_data=\"/home/srinadb/cosipy/docs/tutorials/spectral_fits/dataset/AlbedoPhotons_3months_unbinned_data_filtered_with_SAAcut.fits.gz\", output_name=\"AlbedoPhoton_bkg_binned_data\")\n"
   ]
  },
  {
   "cell_type": "code",
   "execution_count": 8,
   "id": "4d5b3b57-94cf-421b-960f-406c5a61c995",
   "metadata": {
    "tags": []
   },
   "outputs": [],
   "source": [
    "# Bin combined data:\n",
    "data_combined = BinnedData(\"blazar.yaml\")\n",
    "\n",
    "data_combined.get_binned_data(unbinned_data=\"/home/srinadb/cosipy/docs/tutorials/spectral_fits/continuum_fit/blazar/4C21p35_flare_AlbedoPhoton_bkg.fits.gz\", output_name=\"4C21p35_flare_AlbedoPhoton_bkg_binned_data\")\n"
   ]
  },
  {
   "cell_type": "markdown",
   "id": "fe62c42c-0cd2-4135-9cd3-6f58d6cd751e",
   "metadata": {},
   "source": [
    "### Flare"
   ]
  },
  {
   "cell_type": "code",
   "execution_count": 9,
   "id": "b99045e2-325a-4f03-9073-7ceea337f69f",
   "metadata": {
    "scrolled": true
   },
   "outputs": [
    {
     "name": "stdout",
     "output_type": "stream",
     "text": [
      "2.596576815334794e-14\n"
     ]
    }
   ],
   "source": [
    "# https://github.com/cositools/cosi-sim/blob/main/cosi_sim/Source_Library/DC3/sources/Extragalactic/4C21p35_flare/4C_21_spectrum_flare.dat\n",
    "\n",
    "total_integrated_flux = 0.017293201590129727 # ph/cm^2/s\n",
    "alpha = -2.5\n",
    "\n",
    "# F_int = (K / (E_piv^alpha * (alpha+1))) * [ E_max^(alpha+1) - E_min^(alpha+1) ]\n",
    "# K = F_int * (E_piv^alpha * (alpha+1)) / [ E_max^(alpha+1) - E_min^(alpha+1) ]\n",
    "\n",
    "E_min = 100.0\n",
    "E_max = 10000.0\n",
    "E_piv = 1000000\n",
    "\n",
    "n = total_integrated_flux * (E_piv**alpha) * (1+alpha)\n",
    "d = (E_max**(1+alpha) - E_min**(1+alpha))\n",
    "\n",
    "k = n/d\n",
    "print(k)"
   ]
  },
  {
   "cell_type": "code",
   "execution_count": 11,
   "id": "daaba171-e61e-43f2-a280-b229dda88473",
   "metadata": {},
   "outputs": [
    {
     "name": "stdout",
     "output_type": "stream",
     "text": [
      "Reading data from: ./4C_21_spectrum_flare.dat\n",
      "Using parameters: alpha=-2.5, E_piv=1.0 GeV (1.0e+06 keV)\n",
      "Using formula: dN/dE = K * (E / E_piv)^-2.50\n",
      "------------------------------\n",
      "------------------------------\n",
      "Successfully calculated K for 500 data points.\n",
      "Average K value: 1.049977250e-14 ph cm^-2 s^-1 keV^-1\n",
      "\n",
      "Individual Point Summary:\n",
      "Energy (keV) | dN/dE        | Calculated K\n",
      "----------------------------------------------\n",
      "1.00000e+02  | 1.05000e-04  | 1.05000e-14 \n",
      "1.01000e+02  | 1.02600e-04  | 1.05184e-14 \n",
      "1.02000e+02  | 1.00200e-04  | 1.05285e-14 \n",
      "1.03000e+02  | 9.79600e-05  | 1.05473e-14 \n",
      "1.04000e+02  | 9.57300e-05  | 1.05592e-14 \n",
      "1.05000e+02  | 9.35400e-05  | 1.05675e-14 \n",
      "1.06000e+02  | 9.14100e-05  | 1.05745e-14 \n",
      "1.07000e+02  | 8.93300e-05  | 1.05793e-14 \n",
      "1.08000e+02  | 8.72900e-05  | 1.05809e-14 \n",
      "1.09000e+02  | 8.53000e-05  | 1.05807e-14 \n",
      "1.10000e+02  | 8.33500e-05  | 1.05776e-14 \n",
      "1.11000e+02  | 8.14500e-05  | 1.05730e-14 \n",
      "1.12000e+02  | 7.95900e-05  | 1.05658e-14 \n",
      "1.13000e+02  | 7.77800e-05  | 1.05576e-14 \n",
      "1.14000e+02  | 7.60000e-05  | 1.05457e-14 \n",
      "1.15000e+02  | 7.42700e-05  | 1.05331e-14 \n",
      "1.16000e+02  | 7.25800e-05  | 1.05187e-14 \n",
      "1.17000e+02  | 7.09200e-05  | 1.05011e-14 \n",
      "1.18000e+02  | 6.93000e-05  | 1.04819e-14 \n",
      "1.19000e+02  | 6.77200e-05  | 1.04613e-14 \n",
      "1.20000e+02  | 6.61800e-05  | 1.04395e-14 \n",
      "1.21000e+02  | 6.46700e-05  | 1.04152e-14 \n",
      "1.23000e+02  | 6.31900e-05  | 1.06026e-14 \n",
      "1.24000e+02  | 6.17500e-05  | 1.05728e-14 \n",
      "1.25000e+02  | 6.03400e-05  | 1.05410e-14 \n",
      "1.26000e+02  | 5.89700e-05  | 1.05089e-14 \n",
      "1.27000e+02  | 5.76200e-05  | 1.04733e-14 \n",
      "1.28000e+02  | 5.63100e-05  | 1.04378e-14 \n",
      "1.29000e+02  | 5.50200e-05  | 1.03991e-14 \n",
      "1.31000e+02  | 5.37700e-05  | 1.05613e-14 \n",
      "1.32000e+02  | 5.25400e-05  | 1.05178e-14 \n",
      "1.33000e+02  | 5.13400e-05  | 1.04733e-14 \n",
      "1.34000e+02  | 5.01700e-05  | 1.04281e-14 \n",
      "1.36000e+02  | 4.90300e-05  | 1.05757e-14 \n",
      "1.37000e+02  | 4.79100e-05  | 1.05251e-14 \n",
      "1.38000e+02  | 4.68200e-05  | 1.04744e-14 \n",
      "1.39000e+02  | 4.57500e-05  | 1.04214e-14 \n",
      "1.41000e+02  | 4.47100e-05  | 1.05549e-14 \n",
      "1.42000e+02  | 4.36900e-05  | 1.04979e-14 \n",
      "1.43000e+02  | 4.26900e-05  | 1.04392e-14 \n",
      "1.45000e+02  | 4.17200e-05  | 1.05624e-14 \n",
      "1.46000e+02  | 4.07700e-05  | 1.05008e-14 \n",
      "1.47000e+02  | 3.98400e-05  | 1.04379e-14 \n",
      "1.49000e+02  | 3.89300e-05  | 1.05499e-14 \n",
      "1.50000e+02  | 3.80400e-05  | 1.04826e-14 \n",
      "1.51000e+02  | 3.71700e-05  | 1.04144e-14 \n",
      "1.53000e+02  | 3.63200e-05  | 1.05166e-14 \n",
      "1.54000e+02  | 3.55000e-05  | 1.04479e-14 \n",
      "1.56000e+02  | 3.46900e-05  | 1.05443e-14 \n",
      "1.57000e+02  | 3.38900e-05  | 1.04670e-14 \n",
      "1.59000e+02  | 3.31200e-05  | 1.05580e-14 \n",
      "1.60000e+02  | 3.23700e-05  | 1.04820e-14 \n",
      "1.62000e+02  | 3.16300e-05  | 1.05654e-14 \n",
      "1.63000e+02  | 3.09100e-05  | 1.04850e-14 \n",
      "1.65000e+02  | 3.02000e-05  | 1.05613e-14 \n",
      "1.66000e+02  | 2.95100e-05  | 1.04771e-14 \n",
      "1.68000e+02  | 2.88400e-05  | 1.05504e-14 \n",
      "1.69000e+02  | 2.81800e-05  | 1.04630e-14 \n",
      "1.71000e+02  | 2.75400e-05  | 1.05306e-14 \n",
      "1.72000e+02  | 2.69100e-05  | 1.04408e-14 \n",
      "1.74000e+02  | 2.63000e-05  | 1.05034e-14 \n",
      "1.76000e+02  | 2.57000e-05  | 1.05612e-14 \n",
      "1.77000e+02  | 2.51100e-05  | 1.04660e-14 \n",
      "1.79000e+02  | 2.45400e-05  | 1.05198e-14 \n",
      "1.81000e+02  | 2.39800e-05  | 1.05693e-14 \n",
      "1.82000e+02  | 2.34300e-05  | 1.04701e-14 \n",
      "1.84000e+02  | 2.29000e-05  | 1.05167e-14 \n",
      "1.86000e+02  | 2.23800e-05  | 1.05595e-14 \n",
      "1.87000e+02  | 2.18700e-05  | 1.04581e-14 \n",
      "1.89000e+02  | 2.13700e-05  | 1.04944e-14 \n",
      "1.91000e+02  | 2.08800e-05  | 1.05272e-14 \n",
      "1.93000e+02  | 2.04000e-05  | 1.05566e-14 \n",
      "1.94000e+02  | 1.99400e-05  | 1.04527e-14 \n",
      "1.96000e+02  | 1.94800e-05  | 1.04768e-14 \n",
      "1.98000e+02  | 1.90400e-05  | 1.05034e-14 \n",
      "2.00000e+02  | 1.86000e-05  | 1.05217e-14 \n",
      "2.02000e+02  | 1.81800e-05  | 1.05432e-14 \n",
      "2.04000e+02  | 1.77700e-05  | 1.05624e-14 \n",
      "2.05000e+02  | 1.73600e-05  | 1.04456e-14 \n",
      "2.07000e+02  | 1.69600e-05  | 1.04557e-14 \n",
      "2.09000e+02  | 1.65800e-05  | 1.04701e-14 \n",
      "2.11000e+02  | 1.62000e-05  | 1.04766e-14 \n",
      "2.13000e+02  | 1.58300e-05  | 1.04817e-14 \n",
      "2.15000e+02  | 1.54700e-05  | 1.04854e-14 \n",
      "2.17000e+02  | 1.51200e-05  | 1.04882e-14 \n",
      "2.19000e+02  | 1.47700e-05  | 1.04831e-14 \n",
      "2.21000e+02  | 1.44300e-05  | 1.04772e-14 \n",
      "2.23000e+02  | 1.41000e-05  | 1.04708e-14 \n",
      "2.25000e+02  | 1.37800e-05  | 1.04642e-14 \n",
      "2.27000e+02  | 1.34700e-05  | 1.04576e-14 \n",
      "2.29000e+02  | 1.31600e-05  | 1.04435e-14 \n",
      "2.32000e+02  | 1.28600e-05  | 1.05429e-14 \n",
      "2.34000e+02  | 1.25700e-05  | 1.05287e-14 \n",
      "2.36000e+02  | 1.22800e-05  | 1.05070e-14 \n",
      "2.38000e+02  | 1.20000e-05  | 1.04863e-14 \n",
      "2.40000e+02  | 1.17300e-05  | 1.04671e-14 \n",
      "2.43000e+02  | 1.14600e-05  | 1.05487e-14 \n",
      "2.45000e+02  | 1.12000e-05  | 1.05228e-14 \n",
      "2.47000e+02  | 1.09400e-05  | 1.04896e-14 \n",
      "2.49000e+02  | 1.06900e-05  | 1.04587e-14 \n",
      "2.52000e+02  | 1.04500e-05  | 1.05346e-14 \n",
      "2.54000e+02  | 1.02100e-05  | 1.04981e-14 \n",
      "2.56000e+02  | 9.97900e-06  | 1.04637e-14 \n",
      "2.59000e+02  | 9.75100e-06  | 1.05269e-14 \n",
      "2.61000e+02  | 9.52900e-06  | 1.04869e-14 \n",
      "2.64000e+02  | 9.31100e-06  | 1.05440e-14 \n",
      "2.66000e+02  | 9.09900e-06  | 1.05002e-14 \n",
      "2.68000e+02  | 8.89100e-06  | 1.04541e-14 \n",
      "2.71000e+02  | 8.68900e-06  | 1.05049e-14 \n",
      "2.73000e+02  | 8.49000e-06  | 1.04548e-14 \n",
      "2.76000e+02  | 8.29700e-06  | 1.05001e-14 \n",
      "2.79000e+02  | 8.10800e-06  | 1.05420e-14 \n",
      "2.81000e+02  | 7.92300e-06  | 1.04871e-14 \n",
      "2.84000e+02  | 7.74200e-06  | 1.05232e-14 \n",
      "2.86000e+02  | 7.56500e-06  | 1.04646e-14 \n",
      "2.89000e+02  | 7.39300e-06  | 1.04970e-14 \n",
      "2.92000e+02  | 7.22400e-06  | 1.05253e-14 \n",
      "2.94000e+02  | 7.05900e-06  | 1.04619e-14 \n",
      "2.97000e+02  | 6.89800e-06  | 1.04861e-14 \n",
      "3.00000e+02  | 6.74100e-06  | 1.05082e-14 \n",
      "3.03000e+02  | 6.58700e-06  | 1.05267e-14 \n",
      "3.05000e+02  | 6.43700e-06  | 1.04576e-14 \n",
      "3.08000e+02  | 6.29000e-06  | 1.04719e-14 \n",
      "3.11000e+02  | 6.14700e-06  | 1.04849e-14 \n",
      "3.14000e+02  | 6.00700e-06  | 1.04950e-14 \n",
      "3.17000e+02  | 5.87000e-06  | 1.05023e-14 \n",
      "3.20000e+02  | 5.73600e-06  | 1.05071e-14 \n",
      "3.23000e+02  | 5.60500e-06  | 1.05095e-14 \n",
      "3.26000e+02  | 5.47700e-06  | 1.05096e-14 \n",
      "3.29000e+02  | 5.35200e-06  | 1.05077e-14 \n",
      "3.32000e+02  | 5.23000e-06  | 1.05038e-14 \n",
      "3.35000e+02  | 5.11100e-06  | 1.04983e-14 \n",
      "3.38000e+02  | 4.99400e-06  | 1.04891e-14 \n",
      "3.41000e+02  | 4.88000e-06  | 1.04787e-14 \n",
      "3.44000e+02  | 4.76900e-06  | 1.04670e-14 \n",
      "3.48000e+02  | 4.66000e-06  | 1.05277e-14 \n",
      "3.51000e+02  | 4.55400e-06  | 1.05114e-14 \n",
      "3.54000e+02  | 4.45000e-06  | 1.04922e-14 \n",
      "3.57000e+02  | 4.34900e-06  | 1.04727e-14 \n",
      "3.61000e+02  | 4.24900e-06  | 1.05209e-14 \n",
      "3.64000e+02  | 4.15200e-06  | 1.04957e-14 \n",
      "3.67000e+02  | 4.05800e-06  | 1.04707e-14 \n",
      "3.71000e+02  | 3.96500e-06  | 1.05118e-14 \n",
      "3.74000e+02  | 3.87500e-06  | 1.04822e-14 \n",
      "3.78000e+02  | 3.78600e-06  | 1.05174e-14 \n",
      "3.81000e+02  | 3.70000e-06  | 1.04837e-14 \n",
      "3.85000e+02  | 3.61600e-06  | 1.05167e-14 \n",
      "3.88000e+02  | 3.53300e-06  | 1.04767e-14 \n",
      "3.92000e+02  | 3.45300e-06  | 1.05054e-14 \n",
      "3.96000e+02  | 3.37400e-06  | 1.05289e-14 \n",
      "3.99000e+02  | 3.29700e-06  | 1.04846e-14 \n",
      "4.03000e+02  | 3.22200e-06  | 1.05048e-14 \n",
      "4.07000e+02  | 3.14800e-06  | 1.05201e-14 \n",
      "4.10000e+02  | 3.07600e-06  | 1.04700e-14 \n",
      "4.14000e+02  | 3.00600e-06  | 1.04831e-14 \n",
      "4.18000e+02  | 2.93800e-06  | 1.04952e-14 \n",
      "4.22000e+02  | 2.87100e-06  | 1.05030e-14 \n",
      "4.26000e+02  | 2.80500e-06  | 1.05065e-14 \n",
      "4.30000e+02  | 2.74100e-06  | 1.05095e-14 \n",
      "4.34000e+02  | 2.67900e-06  | 1.05123e-14 \n",
      "4.38000e+02  | 2.61800e-06  | 1.05113e-14 \n",
      "4.42000e+02  | 2.55800e-06  | 1.05065e-14 \n",
      "4.46000e+02  | 2.50000e-06  | 1.05021e-14 \n",
      "4.50000e+02  | 2.44300e-06  | 1.04943e-14 \n",
      "4.54000e+02  | 2.38700e-06  | 1.04832e-14 \n",
      "4.58000e+02  | 2.33200e-06  | 1.04687e-14 \n",
      "4.63000e+02  | 2.27900e-06  | 1.05123e-14 \n",
      "4.67000e+02  | 2.22700e-06  | 1.04957e-14 \n",
      "4.71000e+02  | 2.17600e-06  | 1.04764e-14 \n",
      "4.76000e+02  | 2.12700e-06  | 1.05144e-14 \n",
      "4.80000e+02  | 2.07800e-06  | 1.04894e-14 \n",
      "4.85000e+02  | 2.03100e-06  | 1.05212e-14 \n",
      "4.89000e+02  | 1.98500e-06  | 1.04962e-14 \n",
      "4.94000e+02  | 1.93900e-06  | 1.05171e-14 \n",
      "4.98000e+02  | 1.89500e-06  | 1.04878e-14 \n",
      "5.03000e+02  | 1.85200e-06  | 1.05090e-14 \n",
      "5.07000e+02  | 1.81000e-06  | 1.04761e-14 \n",
      "5.12000e+02  | 1.76800e-06  | 1.04871e-14 \n",
      "5.17000e+02  | 1.72800e-06  | 1.05020e-14 \n",
      "5.22000e+02  | 1.68900e-06  | 1.05149e-14 \n",
      "5.27000e+02  | 1.65000e-06  | 1.05199e-14 \n",
      "5.31000e+02  | 1.61200e-06  | 1.04737e-14 \n",
      "5.36000e+02  | 1.57600e-06  | 1.04826e-14 \n",
      "5.41000e+02  | 1.54000e-06  | 1.04837e-14 \n",
      "5.46000e+02  | 1.50500e-06  | 1.04838e-14 \n",
      "5.51000e+02  | 1.47000e-06  | 1.04760e-14 \n",
      "5.57000e+02  | 1.43700e-06  | 1.05219e-14 \n",
      "5.62000e+02  | 1.40400e-06  | 1.05125e-14 \n",
      "5.67000e+02  | 1.37200e-06  | 1.05030e-14 \n",
      "5.72000e+02  | 1.34100e-06  | 1.04935e-14 \n",
      "5.77000e+02  | 1.31000e-06  | 1.04764e-14 \n",
      "5.83000e+02  | 1.28000e-06  | 1.05046e-14 \n",
      "5.88000e+02  | 1.25100e-06  | 1.04882e-14 \n",
      "5.94000e+02  | 1.22200e-06  | 1.05084e-14 \n",
      "5.99000e+02  | 1.19500e-06  | 1.04939e-14 \n",
      "6.05000e+02  | 1.16700e-06  | 1.05065e-14 \n",
      "6.10000e+02  | 1.14100e-06  | 1.04860e-14 \n",
      "6.16000e+02  | 1.11500e-06  | 1.05009e-14 \n",
      "6.22000e+02  | 1.08900e-06  | 1.05076e-14 \n",
      "6.27000e+02  | 1.06400e-06  | 1.04739e-14 \n",
      "6.33000e+02  | 1.04000e-06  | 1.04844e-14 \n",
      "6.39000e+02  | 1.01600e-06  | 1.04869e-14 \n",
      "6.45000e+02  | 9.93300e-07  | 1.04949e-14 \n",
      "6.51000e+02  | 9.70600e-07  | 1.04952e-14 \n",
      "6.57000e+02  | 9.48500e-07  | 1.04942e-14 \n",
      "6.63000e+02  | 9.26800e-07  | 1.04899e-14 \n",
      "6.69000e+02  | 9.05700e-07  | 1.04845e-14 \n",
      "6.76000e+02  | 8.85000e-07  | 1.05150e-14 \n",
      "6.82000e+02  | 8.64900e-07  | 1.05057e-14 \n",
      "6.88000e+02  | 8.45100e-07  | 1.04925e-14 \n",
      "6.95000e+02  | 8.25900e-07  | 1.05169e-14 \n",
      "7.01000e+02  | 8.07000e-07  | 1.04995e-14 \n",
      "7.07000e+02  | 7.88600e-07  | 1.04811e-14 \n",
      "7.14000e+02  | 7.70600e-07  | 1.04972e-14 \n",
      "7.21000e+02  | 7.53100e-07  | 1.05121e-14 \n",
      "7.27000e+02  | 7.35900e-07  | 1.04871e-14 \n",
      "7.34000e+02  | 7.19100e-07  | 1.04961e-14 \n",
      "7.41000e+02  | 7.02700e-07  | 1.05031e-14 \n",
      "7.48000e+02  | 6.86700e-07  | 1.05080e-14 \n",
      "7.55000e+02  | 6.71000e-07  | 1.05097e-14 \n",
      "7.62000e+02  | 6.55700e-07  | 1.05098e-14 \n",
      "7.69000e+02  | 6.40700e-07  | 1.05068e-14 \n",
      "7.76000e+02  | 6.26100e-07  | 1.05026e-14 \n",
      "7.83000e+02  | 6.11900e-07  | 1.04975e-14 \n",
      "7.90000e+02  | 5.97900e-07  | 1.04881e-14 \n",
      "7.98000e+02  | 5.84300e-07  | 1.05110e-14 \n",
      "8.05000e+02  | 5.70900e-07  | 1.04966e-14 \n",
      "8.12000e+02  | 5.57900e-07  | 1.04821e-14 \n",
      "8.20000e+02  | 5.45200e-07  | 1.04976e-14 \n",
      "8.28000e+02  | 5.32800e-07  | 1.05109e-14 \n",
      "8.35000e+02  | 5.20600e-07  | 1.04887e-14 \n",
      "8.43000e+02  | 5.08700e-07  | 1.04962e-14 \n",
      "8.51000e+02  | 4.97100e-07  | 1.05019e-14 \n",
      "8.59000e+02  | 4.85800e-07  | 1.05061e-14 \n",
      "8.67000e+02  | 4.74700e-07  | 1.05067e-14 \n",
      "8.75000e+02  | 4.63900e-07  | 1.05062e-14 \n",
      "8.83000e+02  | 4.53300e-07  | 1.05024e-14 \n",
      "8.91000e+02  | 4.43000e-07  | 1.04978e-14 \n",
      "8.99000e+02  | 4.32900e-07  | 1.04903e-14 \n",
      "9.08000e+02  | 4.23000e-07  | 1.05088e-14 \n",
      "9.16000e+02  | 4.13300e-07  | 1.04955e-14 \n",
      "9.25000e+02  | 4.03900e-07  | 1.05106e-14 \n",
      "9.33000e+02  | 3.94700e-07  | 1.04947e-14 \n",
      "9.42000e+02  | 3.85700e-07  | 1.05045e-14 \n",
      "9.51000e+02  | 3.76900e-07  | 1.05118e-14 \n",
      "9.59000e+02  | 3.68300e-07  | 1.04893e-14 \n",
      "9.68000e+02  | 3.59900e-07  | 1.04923e-14 \n",
      "9.77000e+02  | 3.51700e-07  | 1.04932e-14 \n",
      "9.86000e+02  | 3.43700e-07  | 1.04923e-14 \n",
      "9.95000e+02  | 3.35800e-07  | 1.04867e-14 \n",
      "1.00500e+03  | 3.28200e-07  | 1.05088e-14 \n",
      "1.01400e+03  | 3.20700e-07  | 1.05001e-14 \n",
      "1.02300e+03  | 3.13400e-07  | 1.04903e-14 \n",
      "1.03300e+03  | 3.06200e-07  | 1.05016e-14 \n",
      "1.04200e+03  | 2.99200e-07  | 1.04865e-14 \n",
      "1.05200e+03  | 2.92400e-07  | 1.04958e-14 \n",
      "1.06200e+03  | 2.85700e-07  | 1.05008e-14 \n",
      "1.07200e+03  | 2.79200e-07  | 1.05052e-14 \n",
      "1.08200e+03  | 2.72900e-07  | 1.05092e-14 \n",
      "1.09200e+03  | 2.66600e-07  | 1.05055e-14 \n",
      "1.10200e+03  | 2.60600e-07  | 1.05058e-14 \n",
      "1.11200e+03  | 2.54600e-07  | 1.04983e-14 \n",
      "1.12200e+03  | 2.48800e-07  | 1.04914e-14 \n",
      "1.13300e+03  | 2.43100e-07  | 1.05041e-14 \n",
      "1.14300e+03  | 2.37600e-07  | 1.04945e-14 \n",
      "1.15400e+03  | 2.32200e-07  | 1.05045e-14 \n",
      "1.16400e+03  | 2.26900e-07  | 1.04886e-14 \n",
      "1.17500e+03  | 2.21700e-07  | 1.04921e-14 \n",
      "1.18600e+03  | 2.16600e-07  | 1.04923e-14 \n",
      "1.19700e+03  | 2.11700e-07  | 1.04944e-14 \n",
      "1.20800e+03  | 2.06900e-07  | 1.04937e-14 \n",
      "1.21900e+03  | 2.02200e-07  | 1.04904e-14 \n",
      "1.23100e+03  | 1.97500e-07  | 1.05006e-14 \n",
      "1.24200e+03  | 1.93000e-07  | 1.04921e-14 \n",
      "1.25400e+03  | 1.88600e-07  | 1.05023e-14 \n",
      "1.26500e+03  | 1.84300e-07  | 1.04894e-14 \n",
      "1.27700e+03  | 1.80100e-07  | 1.04952e-14 \n",
      "1.28900e+03  | 1.76000e-07  | 1.04989e-14 \n",
      "1.30100e+03  | 1.72000e-07  | 1.05008e-14 \n",
      "1.31300e+03  | 1.68100e-07  | 1.05010e-14 \n",
      "1.32500e+03  | 1.64200e-07  | 1.04933e-14 \n",
      "1.33700e+03  | 1.60500e-07  | 1.04907e-14 \n",
      "1.35000e+03  | 1.56800e-07  | 1.04998e-14 \n",
      "1.36200e+03  | 1.53300e-07  | 1.04951e-14 \n",
      "1.37500e+03  | 1.49800e-07  | 1.05019e-14 \n",
      "1.38800e+03  | 1.46400e-07  | 1.05079e-14 \n",
      "1.40100e+03  | 1.43000e-07  | 1.05059e-14 \n",
      "1.41400e+03  | 1.39800e-07  | 1.05107e-14 \n",
      "1.42700e+03  | 1.36600e-07  | 1.05078e-14 \n",
      "1.44000e+03  | 1.33500e-07  | 1.05048e-14 \n",
      "1.45300e+03  | 1.30400e-07  | 1.04940e-14 \n",
      "1.46700e+03  | 1.27400e-07  | 1.05013e-14 \n",
      "1.48000e+03  | 1.24500e-07  | 1.04912e-14 \n",
      "1.49400e+03  | 1.21700e-07  | 1.04995e-14 \n",
      "1.50800e+03  | 1.18900e-07  | 1.04999e-14 \n",
      "1.52200e+03  | 1.16200e-07  | 1.05013e-14 \n",
      "1.53600e+03  | 1.13500e-07  | 1.04948e-14 \n",
      "1.55000e+03  | 1.11000e-07  | 1.04991e-14 \n",
      "1.56500e+03  | 1.08400e-07  | 1.05030e-14 \n",
      "1.57900e+03  | 1.06000e-07  | 1.05017e-14 \n",
      "1.59400e+03  | 1.03500e-07  | 1.04993e-14 \n",
      "1.60800e+03  | 1.01200e-07  | 1.04929e-14 \n",
      "1.62300e+03  | 9.88700e-08  | 1.04921e-14 \n",
      "1.63800e+03  | 9.66100e-08  | 1.04908e-14 \n",
      "1.65400e+03  | 9.44100e-08  | 1.05040e-14 \n",
      "1.66900e+03  | 9.22600e-08  | 1.04992e-14 \n",
      "1.68400e+03  | 9.01500e-08  | 1.04911e-14 \n",
      "1.70000e+03  | 8.81000e-08  | 1.04978e-14 \n",
      "1.71600e+03  | 8.60900e-08  | 1.05014e-14 \n",
      "1.73200e+03  | 8.41200e-08  | 1.05019e-14 \n",
      "1.74800e+03  | 8.22100e-08  | 1.05022e-14 \n",
      "1.76400e+03  | 8.03300e-08  | 1.04984e-14 \n",
      "1.78000e+03  | 7.85000e-08  | 1.04935e-14 \n",
      "1.79700e+03  | 7.67100e-08  | 1.05008e-14 \n",
      "1.81300e+03  | 7.49600e-08  | 1.04912e-14 \n",
      "1.83000e+03  | 7.32500e-08  | 1.04939e-14 \n",
      "1.84700e+03  | 7.15800e-08  | 1.04944e-14 \n",
      "1.86400e+03  | 6.99500e-08  | 1.04931e-14 \n",
      "1.88200e+03  | 6.83500e-08  | 1.05024e-14 \n",
      "1.89900e+03  | 6.67900e-08  | 1.04960e-14 \n",
      "1.91700e+03  | 6.52700e-08  | 1.05019e-14 \n",
      "1.93500e+03  | 6.37800e-08  | 1.05048e-14 \n",
      "1.95200e+03  | 6.23200e-08  | 1.04912e-14 \n",
      "1.97100e+03  | 6.09000e-08  | 1.05035e-14 \n",
      "1.98900e+03  | 5.95100e-08  | 1.04997e-14 \n",
      "2.00700e+03  | 5.81600e-08  | 1.04953e-14 \n",
      "2.02600e+03  | 5.68300e-08  | 1.04997e-14 \n",
      "2.04500e+03  | 5.55300e-08  | 1.05017e-14 \n",
      "2.06400e+03  | 5.42700e-08  | 1.05035e-14 \n",
      "2.08300e+03  | 5.30300e-08  | 1.05013e-14 \n",
      "2.10200e+03  | 5.18200e-08  | 1.04973e-14 \n",
      "2.12200e+03  | 5.06400e-08  | 1.05041e-14 \n",
      "2.14100e+03  | 4.94800e-08  | 1.04947e-14 \n",
      "2.16100e+03  | 4.83600e-08  | 1.04984e-14 \n",
      "2.18100e+03  | 4.72500e-08  | 1.04964e-14 \n",
      "2.20100e+03  | 4.61700e-08  | 1.04932e-14 \n",
      "2.22200e+03  | 4.51200e-08  | 1.05010e-14 \n",
      "2.24200e+03  | 4.40900e-08  | 1.04937e-14 \n",
      "2.26300e+03  | 4.30900e-08  | 1.04975e-14 \n",
      "2.28400e+03  | 4.21000e-08  | 1.04960e-14 \n",
      "2.30500e+03  | 4.11400e-08  | 1.04940e-14 \n",
      "2.32700e+03  | 4.02100e-08  | 1.05033e-14 \n",
      "2.34800e+03  | 3.92900e-08  | 1.04961e-14 \n",
      "2.37000e+03  | 3.83900e-08  | 1.04976e-14 \n",
      "2.39200e+03  | 3.75200e-08  | 1.04994e-14 \n",
      "2.41400e+03  | 3.66600e-08  | 1.04963e-14 \n",
      "2.43700e+03  | 3.58200e-08  | 1.05018e-14 \n",
      "2.45900e+03  | 3.50100e-08  | 1.04976e-14 \n",
      "2.48200e+03  | 3.42100e-08  | 1.04992e-14 \n",
      "2.50500e+03  | 3.34300e-08  | 1.04992e-14 \n",
      "2.52800e+03  | 3.26700e-08  | 1.04976e-14 \n",
      "2.55200e+03  | 3.19200e-08  | 1.05018e-14 \n",
      "2.57500e+03  | 3.11900e-08  | 1.04944e-14 \n",
      "2.59900e+03  | 3.04800e-08  | 1.04962e-14 \n",
      "2.62300e+03  | 2.97900e-08  | 1.04970e-14 \n",
      "2.64800e+03  | 2.91100e-08  | 1.05036e-14 \n",
      "2.67200e+03  | 2.84400e-08  | 1.04959e-14 \n",
      "2.69700e+03  | 2.77900e-08  | 1.04976e-14 \n",
      "2.72200e+03  | 2.71600e-08  | 1.04991e-14 \n",
      "2.74700e+03  | 2.65400e-08  | 1.04966e-14 \n",
      "2.77300e+03  | 2.59400e-08  | 1.05038e-14 \n",
      "2.79800e+03  | 2.53400e-08  | 1.04936e-14 \n",
      "2.82400e+03  | 2.47700e-08  | 1.04975e-14 \n",
      "2.85000e+03  | 2.42000e-08  | 1.04937e-14 \n",
      "2.87700e+03  | 2.36500e-08  | 1.04998e-14 \n",
      "2.90400e+03  | 2.31100e-08  | 1.05025e-14 \n",
      "2.93000e+03  | 2.25800e-08  | 1.04928e-14 \n",
      "2.95800e+03  | 2.20700e-08  | 1.05026e-14 \n",
      "2.98500e+03  | 2.15600e-08  | 1.04957e-14 \n",
      "3.01300e+03  | 2.10700e-08  | 1.04993e-14 \n",
      "3.04100e+03  | 2.05900e-08  | 1.05002e-14 \n",
      "3.06900e+03  | 2.01200e-08  | 1.04983e-14 \n",
      "3.09700e+03  | 1.96600e-08  | 1.04939e-14 \n",
      "3.12600e+03  | 1.92100e-08  | 1.04954e-14 \n",
      "3.15500e+03  | 1.87800e-08  | 1.05001e-14 \n",
      "3.18400e+03  | 1.83500e-08  | 1.04971e-14 \n",
      "3.21400e+03  | 1.79300e-08  | 1.05001e-14 \n",
      "3.24400e+03  | 1.75200e-08  | 1.05011e-14 \n",
      "3.27400e+03  | 1.71200e-08  | 1.05003e-14 \n",
      "3.30400e+03  | 1.67300e-08  | 1.04977e-14 \n",
      "3.33500e+03  | 1.63500e-08  | 1.05016e-14 \n",
      "3.36600e+03  | 1.59800e-08  | 1.05042e-14 \n",
      "3.39700e+03  | 1.56100e-08  | 1.04989e-14 \n",
      "3.42800e+03  | 1.52600e-08  | 1.04992e-14 \n",
      "3.46000e+03  | 1.49100e-08  | 1.04995e-14 \n",
      "3.49200e+03  | 1.45700e-08  | 1.04989e-14 \n",
      "3.52400e+03  | 1.42400e-08  | 1.04978e-14 \n",
      "3.55700e+03  | 1.39100e-08  | 1.04963e-14 \n",
      "3.59000e+03  | 1.35900e-08  | 1.04944e-14 \n",
      "3.62300e+03  | 1.32800e-08  | 1.04923e-14 \n",
      "3.65700e+03  | 1.29800e-08  | 1.04975e-14 \n",
      "3.69100e+03  | 1.26800e-08  | 1.04949e-14 \n",
      "3.72500e+03  | 1.24000e-08  | 1.05012e-14 \n",
      "3.76000e+03  | 1.21100e-08  | 1.04982e-14 \n",
      "3.79500e+03  | 1.18400e-08  | 1.05046e-14 \n",
      "3.83000e+03  | 1.15700e-08  | 1.05034e-14 \n",
      "3.86500e+03  | 1.13000e-08  | 1.04943e-14 \n",
      "3.90100e+03  | 1.10400e-08  | 1.04932e-14 \n",
      "3.93700e+03  | 1.07900e-08  | 1.04939e-14 \n",
      "3.97400e+03  | 1.05500e-08  | 1.05032e-14 \n",
      "4.01100e+03  | 1.03100e-08  | 1.05049e-14 \n",
      "4.04800e+03  | 1.00700e-08  | 1.04986e-14 \n",
      "4.08500e+03  | 9.84100e-09  | 1.04959e-14 \n",
      "4.12300e+03  | 9.61700e-09  | 1.04972e-14 \n",
      "4.16100e+03  | 9.39800e-09  | 1.04961e-14 \n",
      "4.20000e+03  | 9.18300e-09  | 1.04980e-14 \n",
      "4.23900e+03  | 8.97400e-09  | 1.04989e-14 \n",
      "4.27800e+03  | 8.76900e-09  | 1.04967e-14 \n",
      "4.31800e+03  | 8.56900e-09  | 1.04987e-14 \n",
      "4.35800e+03  | 8.37400e-09  | 1.04991e-14 \n",
      "4.39800e+03  | 8.18300e-09  | 1.04966e-14 \n",
      "4.43900e+03  | 7.99600e-09  | 1.04975e-14 \n",
      "4.48000e+03  | 7.81400e-09  | 1.04971e-14 \n",
      "4.52200e+03  | 7.63600e-09  | 1.05001e-14 \n",
      "4.56400e+03  | 7.46100e-09  | 1.04993e-14 \n",
      "4.60600e+03  | 7.29100e-09  | 1.04978e-14 \n",
      "4.64900e+03  | 7.12500e-09  | 1.04999e-14 \n",
      "4.69200e+03  | 6.96200e-09  | 1.04985e-14 \n",
      "4.73500e+03  | 6.80400e-09  | 1.04970e-14 \n",
      "4.77900e+03  | 6.64800e-09  | 1.04962e-14 \n",
      "4.82400e+03  | 6.49700e-09  | 1.05010e-14 \n",
      "4.86800e+03  | 6.34900e-09  | 1.04974e-14 \n",
      "4.91300e+03  | 6.20400e-09  | 1.04964e-14 \n",
      "4.95900e+03  | 6.06200e-09  | 1.04979e-14 \n",
      "5.00500e+03  | 5.92400e-09  | 1.04985e-14 \n",
      "5.05100e+03  | 5.78900e-09  | 1.04966e-14 \n",
      "5.09800e+03  | 5.65700e-09  | 1.04975e-14 \n",
      "5.14500e+03  | 5.52800e-09  | 1.04962e-14 \n",
      "5.19300e+03  | 5.40200e-09  | 1.04979e-14 \n",
      "5.24100e+03  | 5.27900e-09  | 1.04975e-14 \n",
      "5.29000e+03  | 5.15800e-09  | 1.04983e-14 \n",
      "5.33900e+03  | 5.04100e-09  | 1.04994e-14 \n",
      "5.38800e+03  | 4.92600e-09  | 1.04970e-14 \n",
      "5.43800e+03  | 4.81300e-09  | 1.04958e-14 \n",
      "5.48900e+03  | 4.70300e-09  | 1.04980e-14 \n",
      "5.54000e+03  | 4.59600e-09  | 1.04992e-14 \n",
      "5.59100e+03  | 4.49100e-09  | 1.04970e-14 \n",
      "5.64300e+03  | 4.38900e-09  | 1.04988e-14 \n",
      "5.69500e+03  | 4.28900e-09  | 1.04976e-14 \n",
      "5.74800e+03  | 4.19100e-09  | 1.04981e-14 \n",
      "5.80100e+03  | 4.09500e-09  | 1.04957e-14 \n",
      "5.85500e+03  | 4.00200e-09  | 1.04977e-14 \n",
      "5.90900e+03  | 3.91100e-09  | 1.04972e-14 \n",
      "5.96400e+03  | 3.82200e-09  | 1.04987e-14 \n",
      "6.01900e+03  | 3.73400e-09  | 1.04951e-14 \n",
      "6.07500e+03  | 3.64900e-09  | 1.04964e-14 \n",
      "6.13200e+03  | 3.56600e-09  | 1.04999e-14 \n",
      "6.18800e+03  | 3.48500e-09  | 1.04973e-14 \n",
      "6.24600e+03  | 3.40500e-09  | 1.04984e-14 \n",
      "6.30400e+03  | 3.32700e-09  | 1.04977e-14 \n",
      "6.36200e+03  | 3.25200e-09  | 1.04987e-14 \n",
      "6.42100e+03  | 3.17700e-09  | 1.04960e-14 \n",
      "6.48100e+03  | 3.10500e-09  | 1.04995e-14 \n",
      "6.54100e+03  | 3.03400e-09  | 1.04985e-14 \n",
      "6.60100e+03  | 2.96500e-09  | 1.04966e-14 \n",
      "6.66300e+03  | 2.89700e-09  | 1.04984e-14 \n",
      "6.72400e+03  | 2.83100e-09  | 1.04956e-14 \n",
      "6.78700e+03  | 2.76700e-09  | 1.05004e-14 \n",
      "6.85000e+03  | 2.70400e-09  | 1.05011e-14 \n",
      "6.91300e+03  | 2.64200e-09  | 1.04978e-14 \n",
      "6.97700e+03  | 2.58200e-09  | 1.04985e-14 \n",
      "7.04200e+03  | 2.52300e-09  | 1.04992e-14 \n",
      "7.10700e+03  | 2.46500e-09  | 1.04962e-14 \n",
      "7.17300e+03  | 2.40900e-09  | 1.04976e-14 \n",
      "7.24000e+03  | 2.35400e-09  | 1.04991e-14 \n",
      "7.30700e+03  | 2.30000e-09  | 1.04973e-14 \n",
      "7.37500e+03  | 2.24800e-09  | 1.05003e-14 \n",
      "7.44300e+03  | 2.19700e-09  | 1.05003e-14 \n",
      "7.51200e+03  | 2.14700e-09  | 1.05008e-14 \n",
      "7.58200e+03  | 2.09800e-09  | 1.05018e-14 \n",
      "7.65200e+03  | 2.05000e-09  | 1.05000e-14 \n",
      "7.72300e+03  | 2.00300e-09  | 1.04990e-14 \n",
      "7.79400e+03  | 1.95700e-09  | 1.04952e-14 \n",
      "7.86700e+03  | 1.91300e-09  | 1.05012e-14 \n",
      "7.94000e+03  | 1.86900e-09  | 1.04993e-14 \n",
      "8.01300e+03  | 1.82600e-09  | 1.04951e-14 \n",
      "8.08800e+03  | 1.78500e-09  | 1.05013e-14 \n",
      "8.16300e+03  | 1.74400e-09  | 1.04996e-14 \n",
      "8.23800e+03  | 1.70400e-09  | 1.04960e-14 \n",
      "8.31500e+03  | 1.66500e-09  | 1.04971e-14 \n",
      "8.39200e+03  | 1.62700e-09  | 1.04967e-14 \n",
      "8.46900e+03  | 1.59000e-09  | 1.04949e-14 \n",
      "8.54800e+03  | 1.55400e-09  | 1.04981e-14 \n",
      "8.62700e+03  | 1.51900e-09  | 1.05004e-14 \n",
      "8.70700e+03  | 1.48400e-09  | 1.04980e-14 \n",
      "8.78800e+03  | 1.45000e-09  | 1.04977e-14 \n",
      "8.86900e+03  | 1.41700e-09  | 1.04968e-14 \n",
      "8.95200e+03  | 1.38500e-09  | 1.05015e-14 \n",
      "9.03500e+03  | 1.35300e-09  | 1.04983e-14 \n",
      "9.11800e+03  | 1.32200e-09  | 1.04950e-14 \n",
      "9.20300e+03  | 1.29200e-09  | 1.04975e-14 \n",
      "9.28800e+03  | 1.26300e-09  | 1.05005e-14 \n",
      "9.37400e+03  | 1.23400e-09  | 1.04985e-14 \n",
      "9.46100e+03  | 1.20600e-09  | 1.05000e-14 \n",
      "9.54900e+03  | 1.17800e-09  | 1.04964e-14 \n",
      "9.63800e+03  | 1.15100e-09  | 1.04965e-14 \n",
      "9.72700e+03  | 1.12500e-09  | 1.04978e-14 \n",
      "9.81700e+03  | 1.09900e-09  | 1.04941e-14 \n",
      "9.90800e+03  | 1.07400e-09  | 1.04947e-14 \n",
      "1.00000e+04  | 1.05000e-09  | 1.05000e-14 \n"
     ]
    }
   ],
   "source": [
    "# https://github.com/cositools/cosi-sim/blob/main/cosi_sim/Source_Library/DC3/sources/Extragalactic/4C21p35_flare/4C_21_spectrum_flare.dat\n",
    "\n",
    "import math \n",
    "\n",
    "# --- Configuration ---\n",
    "FILENAME = './4C_21_spectrum_flare.dat'  # Name of your data file\n",
    "ALPHA = -2.5                    # The alpha parameter from the formula\n",
    "E_PIV_GEV = 1.0                # Pivot energy in GeV\n",
    "\n",
    "# --- Constants and Conversions ---\n",
    "E_PIV_KEV = E_PIV_GEV * 1e6    # Convert Pivot Energy to keV\n",
    "EXPONENT = ALPHA              # The actual exponent in the formula dN/dE = K*(E/E_piv)^(-alpha)\n",
    "\n",
    "# --- Function to calculate K for a single point ---\n",
    "def calculate_single_k(energy_kev, dNdE, e_piv_kev, exponent):\n",
    "    \"\"\"\n",
    "    Calculates K for a single energy point using dN/dE = K * (E/E_piv)^exponent.\n",
    "    Returns K or None if calculation fails.\n",
    "    \"\"\"\n",
    "    if energy_kev <= 0 or e_piv_kev <= 0 or dNdE < 0:\n",
    "        print(f\"Warning: Invalid input for K calculation \"\n",
    "              f\"(E={energy_kev:.2e}, dN/dE={dNdE:.2e}). Skipping.\")\n",
    "        return None\n",
    "\n",
    "    try:\n",
    "        # Formula: K = dNdE / ( (E / E_piv)^exponent )\n",
    "        base = energy_kev / e_piv_kev\n",
    "        denominator = math.pow(base, exponent)\n",
    "\n",
    "        if denominator == 0:\n",
    "            print(f\"Warning: Denominator is zero for E={energy_kev:.2e}. Skipping K calculation.\")\n",
    "            return None\n",
    "\n",
    "        K = dNdE / denominator\n",
    "        return K\n",
    "\n",
    "    except (OverflowError, ValueError) as e:\n",
    "        print(f\"Error calculating K for E={energy_kev:.2e}: {e}. Skipping.\")\n",
    "        return None\n",
    "    except ZeroDivisionError:\n",
    "        print(f\"Warning: Division by zero (base likely zero) for E={energy_kev:.2e}. Skipping K calculation.\")\n",
    "        return None\n",
    "\n",
    "\n",
    "# --- Main Script Logic ---\n",
    "k_values = []\n",
    "energies = []\n",
    "dNdE_values = []\n",
    "\n",
    "print(f\"Reading data from: {FILENAME}\")\n",
    "print(f\"Using parameters: alpha={ALPHA}, E_piv={E_PIV_GEV} GeV ({E_PIV_KEV:.1e} keV)\")\n",
    "print(f\"Using formula: dN/dE = K * (E / E_piv)^{EXPONENT:.2f}\")\n",
    "print(\"-\" * 30)\n",
    "\n",
    "# Check if file exists\n",
    "if not os.path.exists(FILENAME):\n",
    "    print(f\"Error: File not found at '{FILENAME}'\")\n",
    "    exit() # Stop execution if file doesn't exist\n",
    "\n",
    "# Read the file and process data lines\n",
    "try:\n",
    "    with open(FILENAME, 'r') as f:\n",
    "        for i, line in enumerate(f):\n",
    "            line = line.strip() # Remove leading/trailing whitespace\n",
    "            if line.startswith('DP '):\n",
    "                parts = line.split()\n",
    "                if len(parts) >= 3:\n",
    "                    try:\n",
    "                        energy_kev = float(parts[1])\n",
    "                        spectrum_dNdE = float(parts[2]) # This is dN/dE\n",
    "\n",
    "                        # Calculate K for this point\n",
    "                        k_single = calculate_single_k(energy_kev, spectrum_dNdE, E_PIV_KEV, EXPONENT)\n",
    "\n",
    "                        # Store values if K calculation was successful\n",
    "                        if k_single is not None:\n",
    "                            k_values.append(k_single)\n",
    "                            energies.append(energy_kev)\n",
    "                            dNdE_values.append(spectrum_dNdE)\n",
    "                            # Optional: print K for each point as it's calculated\n",
    "                            # print(f\"  Line {i+1}: E={energy_kev:.3e}, dN/dE={spectrum_dNdE:.3e} -> K={k_single:.3e}\")\n",
    "\n",
    "                    except ValueError:\n",
    "                        print(f\"Warning: Could not parse numbers on line {i+1}: '{line}'. Skipping.\")\n",
    "                    except IndexError:\n",
    "                         print(f\"Warning: Not enough columns on line {i+1}: '{line}'. Skipping.\")\n",
    "                else:\n",
    "                    print(f\"Warning: Malformed 'DP' line {i+1}: '{line}'. Skipping.\")\n",
    "\n",
    "except IOError as e:\n",
    "    print(f\"Error reading file '{FILENAME}': {e}\")\n",
    "    exit()\n",
    "\n",
    "print(\"-\" * 30)\n",
    "\n",
    "# --- Calculate and Print Average K ---\n",
    "if k_values: # Check if the list is not empty\n",
    "    average_k = sum(k_values) / len(k_values)\n",
    "    print(f\"Successfully calculated K for {len(k_values)} data points.\")\n",
    "    print(f\"Average K value: {average_k:.9e} ph cm^-2 s^-1 keV^-1\")\n",
    "\n",
    "    # Optional: Print a summary table\n",
    "    print(\"\\nIndividual Point Summary:\")\n",
    "    print(\"Energy (keV) | dN/dE        | Calculated K\")\n",
    "    print(\"----------------------------------------------\")\n",
    "    for e, dn, k in zip(energies, dNdE_values, k_values):\n",
    "        print(f\"{e:<12.5e} | {dn:<12.5e} | {k:<12.5e}\")\n",
    "\n",
    "else:\n",
    "    print(\"No valid K values were calculated from the file.\")\n",
    "\n",
    "\n"
   ]
  }
 ],
 "metadata": {
  "kernelspec": {
   "display_name": "cosipy_developer",
   "language": "python",
   "name": "cosipy_developer"
  },
  "language_info": {
   "codemirror_mode": {
    "name": "ipython",
    "version": 3
   },
   "file_extension": ".py",
   "mimetype": "text/x-python",
   "name": "python",
   "nbconvert_exporter": "python",
   "pygments_lexer": "ipython3",
   "version": "3.10.16"
  }
 },
 "nbformat": 4,
 "nbformat_minor": 5
}

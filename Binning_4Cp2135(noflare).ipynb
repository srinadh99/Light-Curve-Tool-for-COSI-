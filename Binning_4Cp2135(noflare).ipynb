{
 "cells": [
  {
   "cell_type": "markdown",
   "id": "74a86fb5-4e54-4e3f-b349-3e60fbdd0279",
   "metadata": {
    "tags": []
   },
   "source": [
    "# Download the data, combine with background and binning example (4C+21.35)"
   ]
  },
  {
   "cell_type": "markdown",
   "id": "e7df3443-3ce1-43f3-90b5-1bceb7bc9af0",
   "metadata": {},
   "source": [
    "**This tutotrial walks through all the steps needed in creating the combined data set (source + background), and binning the data for the blazar (4C+21.35, noflare).**\n",
    "\n",
    "**For the background we use just the albedo photons.**\n",
    "\n",
    "**To run this, you need the following files (available on wasabi)**\n",
    "\n",
    "- COSI-SMEX/DC3/Data/Sources/4C21p35_noflare_3months_unbinned_data_filtered_with_SAAcut.fits.gz \n",
    "- COSI-SMEX/DC3/Data/Backgrounds/Ge/AlbedoPhotons_3months_unbinned_data_filtered_with_SAAcut.fits.gz  \n",
    " "
   ]
  },
  {
   "cell_type": "code",
   "execution_count": 1,
   "id": "ce42ab82-3bbd-4729-8f84-a4e32eb3bb24",
   "metadata": {
    "tags": []
   },
   "outputs": [
    {
     "data": {
      "text/html": [
       "<pre style=\"white-space:pre;overflow-x:auto;line-height:normal;font-family:Menlo,'DejaVu Sans Mono',consolas,'Courier New',monospace\"><span style=\"color: #00ff00; text-decoration-color: #00ff00\">07:45:02 </span><span style=\"color: #af5fd7; text-decoration-color: #af5fd7\">WARNING </span> <span style=\"color: #c6c6c6; text-decoration-color: #c6c6c6; font-weight: bold\"> The naima package is not available. Models that depend on it will not be         </span><a href=\"file:///home/srinadb/miniconda3/envs/cosipy_developer/lib/python3.10/site-packages/astromodels/functions/functions_1D/functions.py\" target=\"_blank\"><span style=\"color: #7f7f7f; text-decoration-color: #7f7f7f\">functions.py</span></a><span style=\"color: #7f7f7f; text-decoration-color: #7f7f7f\">:</span><a href=\"file:///home/srinadb/miniconda3/envs/cosipy_developer/lib/python3.10/site-packages/astromodels/functions/functions_1D/functions.py#47\" target=\"_blank\"><span style=\"color: #7f7f7f; text-decoration-color: #7f7f7f\">47</span></a>\n",
       "<span style=\"color: #00ff00; text-decoration-color: #00ff00\">         </span>         <span style=\"color: #c6c6c6; text-decoration-color: #c6c6c6; font-weight: bold\">available                                                                         </span><span style=\"color: #7f7f7f; text-decoration-color: #7f7f7f\">               </span>\n",
       "</pre>\n"
      ],
      "text/plain": [
       "\u001b[38;5;46m07:45:02\u001b[0m\u001b[38;5;46m \u001b[0m\u001b[38;5;134mWARNING \u001b[0m \u001b[1;38;5;251m The naima package is not available. Models that depend on it will not be        \u001b[0m\u001b[1;38;5;251m \u001b[0m\u001b]8;id=388395;file:///home/srinadb/miniconda3/envs/cosipy_developer/lib/python3.10/site-packages/astromodels/functions/functions_1D/functions.py\u001b\\\u001b[2mfunctions.py\u001b[0m\u001b]8;;\u001b\\\u001b[2m:\u001b[0m\u001b]8;id=400477;file:///home/srinadb/miniconda3/envs/cosipy_developer/lib/python3.10/site-packages/astromodels/functions/functions_1D/functions.py#47\u001b\\\u001b[2m47\u001b[0m\u001b]8;;\u001b\\\n",
       "\u001b[38;5;46m         \u001b[0m         \u001b[1;38;5;251mavailable                                                                        \u001b[0m\u001b[1;38;5;251m \u001b[0m\u001b[2m               \u001b[0m\n"
      ]
     },
     "metadata": {},
     "output_type": "display_data"
    },
    {
     "data": {
      "text/html": [
       "<pre style=\"white-space:pre;overflow-x:auto;line-height:normal;font-family:Menlo,'DejaVu Sans Mono',consolas,'Courier New',monospace\"><span style=\"color: #00ff00; text-decoration-color: #00ff00\">         </span><span style=\"color: #af5fd7; text-decoration-color: #af5fd7\">WARNING </span> <span style=\"color: #c6c6c6; text-decoration-color: #c6c6c6; font-weight: bold\"> The GSL library or the pygsl wrapper cannot be loaded. Models that depend on it  </span><a href=\"file:///home/srinadb/miniconda3/envs/cosipy_developer/lib/python3.10/site-packages/astromodels/functions/functions_1D/functions.py\" target=\"_blank\"><span style=\"color: #7f7f7f; text-decoration-color: #7f7f7f\">functions.py</span></a><span style=\"color: #7f7f7f; text-decoration-color: #7f7f7f\">:</span><a href=\"file:///home/srinadb/miniconda3/envs/cosipy_developer/lib/python3.10/site-packages/astromodels/functions/functions_1D/functions.py#68\" target=\"_blank\"><span style=\"color: #7f7f7f; text-decoration-color: #7f7f7f\">68</span></a>\n",
       "<span style=\"color: #00ff00; text-decoration-color: #00ff00\">         </span>         <span style=\"color: #c6c6c6; text-decoration-color: #c6c6c6; font-weight: bold\">will not be available.                                                            </span><span style=\"color: #7f7f7f; text-decoration-color: #7f7f7f\">               </span>\n",
       "</pre>\n"
      ],
      "text/plain": [
       "\u001b[38;5;46m        \u001b[0m\u001b[38;5;46m \u001b[0m\u001b[38;5;134mWARNING \u001b[0m \u001b[1;38;5;251m The GSL library or the pygsl wrapper cannot be loaded. Models that depend on it \u001b[0m\u001b[1;38;5;251m \u001b[0m\u001b]8;id=807184;file:///home/srinadb/miniconda3/envs/cosipy_developer/lib/python3.10/site-packages/astromodels/functions/functions_1D/functions.py\u001b\\\u001b[2mfunctions.py\u001b[0m\u001b]8;;\u001b\\\u001b[2m:\u001b[0m\u001b]8;id=316093;file:///home/srinadb/miniconda3/envs/cosipy_developer/lib/python3.10/site-packages/astromodels/functions/functions_1D/functions.py#68\u001b\\\u001b[2m68\u001b[0m\u001b]8;;\u001b\\\n",
       "\u001b[38;5;46m         \u001b[0m         \u001b[1;38;5;251mwill not be available.                                                           \u001b[0m\u001b[1;38;5;251m \u001b[0m\u001b[2m               \u001b[0m\n"
      ]
     },
     "metadata": {},
     "output_type": "display_data"
    },
    {
     "data": {
      "text/html": [
       "<pre style=\"white-space:pre;overflow-x:auto;line-height:normal;font-family:Menlo,'DejaVu Sans Mono',consolas,'Courier New',monospace\"><span style=\"color: #00ff00; text-decoration-color: #00ff00\">         </span><span style=\"color: #af5fd7; text-decoration-color: #af5fd7\">WARNING </span> <span style=\"color: #c6c6c6; text-decoration-color: #c6c6c6; font-weight: bold\"> The ebltable package is not available. Models that depend on it will not be     </span><a href=\"file:///home/srinadb/miniconda3/envs/cosipy_developer/lib/python3.10/site-packages/astromodels/functions/functions_1D/absorption.py\" target=\"_blank\"><span style=\"color: #7f7f7f; text-decoration-color: #7f7f7f\">absorption.py</span></a><span style=\"color: #7f7f7f; text-decoration-color: #7f7f7f\">:</span><a href=\"file:///home/srinadb/miniconda3/envs/cosipy_developer/lib/python3.10/site-packages/astromodels/functions/functions_1D/absorption.py#33\" target=\"_blank\"><span style=\"color: #7f7f7f; text-decoration-color: #7f7f7f\">33</span></a>\n",
       "<span style=\"color: #00ff00; text-decoration-color: #00ff00\">         </span>         <span style=\"color: #c6c6c6; text-decoration-color: #c6c6c6; font-weight: bold\">available                                                                        </span><span style=\"color: #7f7f7f; text-decoration-color: #7f7f7f\">                </span>\n",
       "</pre>\n"
      ],
      "text/plain": [
       "\u001b[38;5;46m        \u001b[0m\u001b[38;5;46m \u001b[0m\u001b[38;5;134mWARNING \u001b[0m \u001b[1;38;5;251m The ebltable package is not available. Models that depend on it will not be    \u001b[0m\u001b[1;38;5;251m \u001b[0m\u001b]8;id=442046;file:///home/srinadb/miniconda3/envs/cosipy_developer/lib/python3.10/site-packages/astromodels/functions/functions_1D/absorption.py\u001b\\\u001b[2mabsorption.py\u001b[0m\u001b]8;;\u001b\\\u001b[2m:\u001b[0m\u001b]8;id=101500;file:///home/srinadb/miniconda3/envs/cosipy_developer/lib/python3.10/site-packages/astromodels/functions/functions_1D/absorption.py#33\u001b\\\u001b[2m33\u001b[0m\u001b]8;;\u001b\\\n",
       "\u001b[38;5;46m         \u001b[0m         \u001b[1;38;5;251mavailable                                                                       \u001b[0m\u001b[1;38;5;251m \u001b[0m\u001b[2m                \u001b[0m\n"
      ]
     },
     "metadata": {},
     "output_type": "display_data"
    },
    {
     "data": {
      "text/html": [
       "<pre style=\"white-space:pre;overflow-x:auto;line-height:normal;font-family:Menlo,'DejaVu Sans Mono',consolas,'Courier New',monospace\"><span style=\"color: #00ff00; text-decoration-color: #00ff00\">         </span><span style=\"color: #00ffaf; text-decoration-color: #00ffaf\">INFO    </span> <span style=\"color: #c6c6c6; text-decoration-color: #c6c6c6; font-weight: bold\"> Starting 3ML!                                                                     </span><a href=\"file:///home/srinadb/miniconda3/envs/cosipy_developer/lib/python3.10/site-packages/threeML/__init__.py\" target=\"_blank\"><span style=\"color: #7f7f7f; text-decoration-color: #7f7f7f\">__init__.py</span></a><span style=\"color: #7f7f7f; text-decoration-color: #7f7f7f\">:</span><a href=\"file:///home/srinadb/miniconda3/envs/cosipy_developer/lib/python3.10/site-packages/threeML/__init__.py#39\" target=\"_blank\"><span style=\"color: #7f7f7f; text-decoration-color: #7f7f7f\">39</span></a>\n",
       "</pre>\n"
      ],
      "text/plain": [
       "\u001b[38;5;46m        \u001b[0m\u001b[38;5;46m \u001b[0m\u001b[38;5;49mINFO    \u001b[0m \u001b[1;38;5;251m Starting 3ML!                                                                    \u001b[0m\u001b[1;38;5;251m \u001b[0m\u001b]8;id=381518;file:///home/srinadb/miniconda3/envs/cosipy_developer/lib/python3.10/site-packages/threeML/__init__.py\u001b\\\u001b[2m__init__.py\u001b[0m\u001b]8;;\u001b\\\u001b[2m:\u001b[0m\u001b]8;id=33879;file:///home/srinadb/miniconda3/envs/cosipy_developer/lib/python3.10/site-packages/threeML/__init__.py#39\u001b\\\u001b[2m39\u001b[0m\u001b]8;;\u001b\\\n"
      ]
     },
     "metadata": {},
     "output_type": "display_data"
    },
    {
     "data": {
      "text/html": [
       "<pre style=\"white-space:pre;overflow-x:auto;line-height:normal;font-family:Menlo,'DejaVu Sans Mono',consolas,'Courier New',monospace\"><span style=\"color: #00ff00; text-decoration-color: #00ff00\">         </span><span style=\"color: #af5fd7; text-decoration-color: #af5fd7\">WARNING </span> <span style=\"color: #c6c6c6; text-decoration-color: #c6c6c6; font-weight: bold\"> WARNINGs here are </span><span style=\"color: #800000; text-decoration-color: #800000; font-weight: bold\">NOT</span><span style=\"color: #c6c6c6; text-decoration-color: #c6c6c6; font-weight: bold\"> errors                                                      </span><a href=\"file:///home/srinadb/miniconda3/envs/cosipy_developer/lib/python3.10/site-packages/threeML/__init__.py\" target=\"_blank\"><span style=\"color: #7f7f7f; text-decoration-color: #7f7f7f\">__init__.py</span></a><span style=\"color: #7f7f7f; text-decoration-color: #7f7f7f\">:</span><a href=\"file:///home/srinadb/miniconda3/envs/cosipy_developer/lib/python3.10/site-packages/threeML/__init__.py#40\" target=\"_blank\"><span style=\"color: #7f7f7f; text-decoration-color: #7f7f7f\">40</span></a>\n",
       "</pre>\n"
      ],
      "text/plain": [
       "\u001b[38;5;46m        \u001b[0m\u001b[38;5;46m \u001b[0m\u001b[38;5;134mWARNING \u001b[0m \u001b[1;38;5;251m WARNINGs here are \u001b[0m\u001b[1;31mNOT\u001b[0m\u001b[1;38;5;251m errors                                                     \u001b[0m\u001b[1;38;5;251m \u001b[0m\u001b]8;id=987519;file:///home/srinadb/miniconda3/envs/cosipy_developer/lib/python3.10/site-packages/threeML/__init__.py\u001b\\\u001b[2m__init__.py\u001b[0m\u001b]8;;\u001b\\\u001b[2m:\u001b[0m\u001b]8;id=755632;file:///home/srinadb/miniconda3/envs/cosipy_developer/lib/python3.10/site-packages/threeML/__init__.py#40\u001b\\\u001b[2m40\u001b[0m\u001b]8;;\u001b\\\n"
      ]
     },
     "metadata": {},
     "output_type": "display_data"
    },
    {
     "data": {
      "text/html": [
       "<pre style=\"white-space:pre;overflow-x:auto;line-height:normal;font-family:Menlo,'DejaVu Sans Mono',consolas,'Courier New',monospace\"><span style=\"color: #00ff00; text-decoration-color: #00ff00\">         </span><span style=\"color: #af5fd7; text-decoration-color: #af5fd7\">WARNING </span> <span style=\"color: #c6c6c6; text-decoration-color: #c6c6c6; font-weight: bold\"> but are inform you about optional packages that can be installed                  </span><a href=\"file:///home/srinadb/miniconda3/envs/cosipy_developer/lib/python3.10/site-packages/threeML/__init__.py\" target=\"_blank\"><span style=\"color: #7f7f7f; text-decoration-color: #7f7f7f\">__init__.py</span></a><span style=\"color: #7f7f7f; text-decoration-color: #7f7f7f\">:</span><a href=\"file:///home/srinadb/miniconda3/envs/cosipy_developer/lib/python3.10/site-packages/threeML/__init__.py#41\" target=\"_blank\"><span style=\"color: #7f7f7f; text-decoration-color: #7f7f7f\">41</span></a>\n",
       "</pre>\n"
      ],
      "text/plain": [
       "\u001b[38;5;46m        \u001b[0m\u001b[38;5;46m \u001b[0m\u001b[38;5;134mWARNING \u001b[0m \u001b[1;38;5;251m but are inform you about optional packages that can be installed                 \u001b[0m\u001b[1;38;5;251m \u001b[0m\u001b]8;id=21889;file:///home/srinadb/miniconda3/envs/cosipy_developer/lib/python3.10/site-packages/threeML/__init__.py\u001b\\\u001b[2m__init__.py\u001b[0m\u001b]8;;\u001b\\\u001b[2m:\u001b[0m\u001b]8;id=540061;file:///home/srinadb/miniconda3/envs/cosipy_developer/lib/python3.10/site-packages/threeML/__init__.py#41\u001b\\\u001b[2m41\u001b[0m\u001b]8;;\u001b\\\n"
      ]
     },
     "metadata": {},
     "output_type": "display_data"
    },
    {
     "data": {
      "text/html": [
       "<pre style=\"white-space:pre;overflow-x:auto;line-height:normal;font-family:Menlo,'DejaVu Sans Mono',consolas,'Courier New',monospace\"><span style=\"color: #00ff00; text-decoration-color: #00ff00\">         </span><span style=\"color: #af5fd7; text-decoration-color: #af5fd7\">WARNING </span> <span style=\"color: #c6c6c6; text-decoration-color: #c6c6c6; font-weight: bold\"> </span><span style=\"color: #800000; text-decoration-color: #800000; font-weight: bold\"> to disable these messages, turn off start_warning in your config file</span><span style=\"color: #c6c6c6; text-decoration-color: #c6c6c6; font-weight: bold\">            </span><a href=\"file:///home/srinadb/miniconda3/envs/cosipy_developer/lib/python3.10/site-packages/threeML/__init__.py\" target=\"_blank\"><span style=\"color: #7f7f7f; text-decoration-color: #7f7f7f\">__init__.py</span></a><span style=\"color: #7f7f7f; text-decoration-color: #7f7f7f\">:</span><a href=\"file:///home/srinadb/miniconda3/envs/cosipy_developer/lib/python3.10/site-packages/threeML/__init__.py#44\" target=\"_blank\"><span style=\"color: #7f7f7f; text-decoration-color: #7f7f7f\">44</span></a>\n",
       "</pre>\n"
      ],
      "text/plain": [
       "\u001b[38;5;46m        \u001b[0m\u001b[38;5;46m \u001b[0m\u001b[38;5;134mWARNING \u001b[0m \u001b[1;38;5;251m \u001b[0m\u001b[1;31m to disable these messages, turn off start_warning in your config file\u001b[0m\u001b[1;38;5;251m           \u001b[0m\u001b[1;38;5;251m \u001b[0m\u001b]8;id=711098;file:///home/srinadb/miniconda3/envs/cosipy_developer/lib/python3.10/site-packages/threeML/__init__.py\u001b\\\u001b[2m__init__.py\u001b[0m\u001b]8;;\u001b\\\u001b[2m:\u001b[0m\u001b]8;id=6041;file:///home/srinadb/miniconda3/envs/cosipy_developer/lib/python3.10/site-packages/threeML/__init__.py#44\u001b\\\u001b[2m44\u001b[0m\u001b]8;;\u001b\\\n"
      ]
     },
     "metadata": {},
     "output_type": "display_data"
    },
    {
     "data": {
      "text/html": [
       "<pre style=\"white-space:pre;overflow-x:auto;line-height:normal;font-family:Menlo,'DejaVu Sans Mono',consolas,'Courier New',monospace\"><span style=\"color: #00ff00; text-decoration-color: #00ff00\">07:45:03 </span><span style=\"color: #af5fd7; text-decoration-color: #af5fd7\">WARNING </span> <span style=\"color: #c6c6c6; text-decoration-color: #c6c6c6; font-weight: bold\"> ROOT minimizer not available                                                </span><a href=\"file:///home/srinadb/miniconda3/envs/cosipy_developer/lib/python3.10/site-packages/threeML/minimizer/minimization.py\" target=\"_blank\"><span style=\"color: #7f7f7f; text-decoration-color: #7f7f7f\">minimization.py</span></a><span style=\"color: #7f7f7f; text-decoration-color: #7f7f7f\">:</span><a href=\"file:///home/srinadb/miniconda3/envs/cosipy_developer/lib/python3.10/site-packages/threeML/minimizer/minimization.py#1345\" target=\"_blank\"><span style=\"color: #7f7f7f; text-decoration-color: #7f7f7f\">1345</span></a>\n",
       "</pre>\n"
      ],
      "text/plain": [
       "\u001b[38;5;46m07:45:03\u001b[0m\u001b[38;5;46m \u001b[0m\u001b[38;5;134mWARNING \u001b[0m \u001b[1;38;5;251m ROOT minimizer not available                                               \u001b[0m\u001b[1;38;5;251m \u001b[0m\u001b]8;id=461184;file:///home/srinadb/miniconda3/envs/cosipy_developer/lib/python3.10/site-packages/threeML/minimizer/minimization.py\u001b\\\u001b[2mminimization.py\u001b[0m\u001b]8;;\u001b\\\u001b[2m:\u001b[0m\u001b]8;id=809541;file:///home/srinadb/miniconda3/envs/cosipy_developer/lib/python3.10/site-packages/threeML/minimizer/minimization.py#1345\u001b\\\u001b[2m1345\u001b[0m\u001b]8;;\u001b\\\n"
      ]
     },
     "metadata": {},
     "output_type": "display_data"
    },
    {
     "data": {
      "text/html": [
       "<pre style=\"white-space:pre;overflow-x:auto;line-height:normal;font-family:Menlo,'DejaVu Sans Mono',consolas,'Courier New',monospace\"><span style=\"color: #00ff00; text-decoration-color: #00ff00\">         </span><span style=\"color: #af5fd7; text-decoration-color: #af5fd7\">WARNING </span> <span style=\"color: #c6c6c6; text-decoration-color: #c6c6c6; font-weight: bold\"> Multinest minimizer not available                                           </span><a href=\"file:///home/srinadb/miniconda3/envs/cosipy_developer/lib/python3.10/site-packages/threeML/minimizer/minimization.py\" target=\"_blank\"><span style=\"color: #7f7f7f; text-decoration-color: #7f7f7f\">minimization.py</span></a><span style=\"color: #7f7f7f; text-decoration-color: #7f7f7f\">:</span><a href=\"file:///home/srinadb/miniconda3/envs/cosipy_developer/lib/python3.10/site-packages/threeML/minimizer/minimization.py#1357\" target=\"_blank\"><span style=\"color: #7f7f7f; text-decoration-color: #7f7f7f\">1357</span></a>\n",
       "</pre>\n"
      ],
      "text/plain": [
       "\u001b[38;5;46m        \u001b[0m\u001b[38;5;46m \u001b[0m\u001b[38;5;134mWARNING \u001b[0m \u001b[1;38;5;251m Multinest minimizer not available                                          \u001b[0m\u001b[1;38;5;251m \u001b[0m\u001b]8;id=648783;file:///home/srinadb/miniconda3/envs/cosipy_developer/lib/python3.10/site-packages/threeML/minimizer/minimization.py\u001b\\\u001b[2mminimization.py\u001b[0m\u001b]8;;\u001b\\\u001b[2m:\u001b[0m\u001b]8;id=42823;file:///home/srinadb/miniconda3/envs/cosipy_developer/lib/python3.10/site-packages/threeML/minimizer/minimization.py#1357\u001b\\\u001b[2m1357\u001b[0m\u001b]8;;\u001b\\\n"
      ]
     },
     "metadata": {},
     "output_type": "display_data"
    },
    {
     "data": {
      "text/html": [
       "<pre style=\"white-space:pre;overflow-x:auto;line-height:normal;font-family:Menlo,'DejaVu Sans Mono',consolas,'Courier New',monospace\"><span style=\"color: #00ff00; text-decoration-color: #00ff00\">         </span><span style=\"color: #af5fd7; text-decoration-color: #af5fd7\">WARNING </span> <span style=\"color: #c6c6c6; text-decoration-color: #c6c6c6; font-weight: bold\"> PyGMO is not available                                                      </span><a href=\"file:///home/srinadb/miniconda3/envs/cosipy_developer/lib/python3.10/site-packages/threeML/minimizer/minimization.py\" target=\"_blank\"><span style=\"color: #7f7f7f; text-decoration-color: #7f7f7f\">minimization.py</span></a><span style=\"color: #7f7f7f; text-decoration-color: #7f7f7f\">:</span><a href=\"file:///home/srinadb/miniconda3/envs/cosipy_developer/lib/python3.10/site-packages/threeML/minimizer/minimization.py#1369\" target=\"_blank\"><span style=\"color: #7f7f7f; text-decoration-color: #7f7f7f\">1369</span></a>\n",
       "</pre>\n"
      ],
      "text/plain": [
       "\u001b[38;5;46m        \u001b[0m\u001b[38;5;46m \u001b[0m\u001b[38;5;134mWARNING \u001b[0m \u001b[1;38;5;251m PyGMO is not available                                                     \u001b[0m\u001b[1;38;5;251m \u001b[0m\u001b]8;id=62617;file:///home/srinadb/miniconda3/envs/cosipy_developer/lib/python3.10/site-packages/threeML/minimizer/minimization.py\u001b\\\u001b[2mminimization.py\u001b[0m\u001b]8;;\u001b\\\u001b[2m:\u001b[0m\u001b]8;id=329398;file:///home/srinadb/miniconda3/envs/cosipy_developer/lib/python3.10/site-packages/threeML/minimizer/minimization.py#1369\u001b\\\u001b[2m1369\u001b[0m\u001b]8;;\u001b\\\n"
      ]
     },
     "metadata": {},
     "output_type": "display_data"
    },
    {
     "data": {
      "text/html": [
       "<pre style=\"white-space:pre;overflow-x:auto;line-height:normal;font-family:Menlo,'DejaVu Sans Mono',consolas,'Courier New',monospace\"><span style=\"color: #00ff00; text-decoration-color: #00ff00\">07:45:03 </span><span style=\"color: #af5fd7; text-decoration-color: #af5fd7\">WARNING </span> <span style=\"color: #c6c6c6; text-decoration-color: #c6c6c6; font-weight: bold\"> The cthreeML package is not installed. You will not be able to use plugins which  </span><a href=\"file:///home/srinadb/miniconda3/envs/cosipy_developer/lib/python3.10/site-packages/threeML/__init__.py\" target=\"_blank\"><span style=\"color: #7f7f7f; text-decoration-color: #7f7f7f\">__init__.py</span></a><span style=\"color: #7f7f7f; text-decoration-color: #7f7f7f\">:</span><a href=\"file:///home/srinadb/miniconda3/envs/cosipy_developer/lib/python3.10/site-packages/threeML/__init__.py#94\" target=\"_blank\"><span style=\"color: #7f7f7f; text-decoration-color: #7f7f7f\">94</span></a>\n",
       "<span style=\"color: #00ff00; text-decoration-color: #00ff00\">         </span>         <span style=\"color: #c6c6c6; text-decoration-color: #c6c6c6; font-weight: bold\">require the C/C++ interface (currently HAWC)                                       </span><span style=\"color: #7f7f7f; text-decoration-color: #7f7f7f\">              </span>\n",
       "</pre>\n"
      ],
      "text/plain": [
       "\u001b[38;5;46m07:45:03\u001b[0m\u001b[38;5;46m \u001b[0m\u001b[38;5;134mWARNING \u001b[0m \u001b[1;38;5;251m The cthreeML package is not installed. You will not be able to use plugins which \u001b[0m\u001b[1;38;5;251m \u001b[0m\u001b]8;id=644958;file:///home/srinadb/miniconda3/envs/cosipy_developer/lib/python3.10/site-packages/threeML/__init__.py\u001b\\\u001b[2m__init__.py\u001b[0m\u001b]8;;\u001b\\\u001b[2m:\u001b[0m\u001b]8;id=871138;file:///home/srinadb/miniconda3/envs/cosipy_developer/lib/python3.10/site-packages/threeML/__init__.py#94\u001b\\\u001b[2m94\u001b[0m\u001b]8;;\u001b\\\n",
       "\u001b[38;5;46m         \u001b[0m         \u001b[1;38;5;251mrequire the C/C++ interface \u001b[0m\u001b[1;38;5;251m(\u001b[0m\u001b[1;38;5;251mcurrently HAWC\u001b[0m\u001b[1;38;5;251m)\u001b[0m\u001b[1;38;5;251m                                      \u001b[0m\u001b[1;38;5;251m \u001b[0m\u001b[2m              \u001b[0m\n"
      ]
     },
     "metadata": {},
     "output_type": "display_data"
    },
    {
     "data": {
      "text/html": [
       "<pre style=\"white-space:pre;overflow-x:auto;line-height:normal;font-family:Menlo,'DejaVu Sans Mono',consolas,'Courier New',monospace\"><span style=\"color: #00ff00; text-decoration-color: #00ff00\">         </span><span style=\"color: #af5fd7; text-decoration-color: #af5fd7\">WARNING </span> <span style=\"color: #c6c6c6; text-decoration-color: #c6c6c6; font-weight: bold\"> Could not import plugin FermiLATLike.py. Do you have the relative instrument     </span><a href=\"file:///home/srinadb/miniconda3/envs/cosipy_developer/lib/python3.10/site-packages/threeML/__init__.py\" target=\"_blank\"><span style=\"color: #7f7f7f; text-decoration-color: #7f7f7f\">__init__.py</span></a><span style=\"color: #7f7f7f; text-decoration-color: #7f7f7f\">:</span><a href=\"file:///home/srinadb/miniconda3/envs/cosipy_developer/lib/python3.10/site-packages/threeML/__init__.py#144\" target=\"_blank\"><span style=\"color: #7f7f7f; text-decoration-color: #7f7f7f\">144</span></a>\n",
       "<span style=\"color: #00ff00; text-decoration-color: #00ff00\">         </span>         <span style=\"color: #c6c6c6; text-decoration-color: #c6c6c6; font-weight: bold\">software installed and configured?                                                </span><span style=\"color: #7f7f7f; text-decoration-color: #7f7f7f\">               </span>\n",
       "</pre>\n"
      ],
      "text/plain": [
       "\u001b[38;5;46m        \u001b[0m\u001b[38;5;46m \u001b[0m\u001b[38;5;134mWARNING \u001b[0m \u001b[1;38;5;251m Could not import plugin FermiLATLike.py. Do you have the relative instrument    \u001b[0m\u001b[1;38;5;251m \u001b[0m\u001b]8;id=616361;file:///home/srinadb/miniconda3/envs/cosipy_developer/lib/python3.10/site-packages/threeML/__init__.py\u001b\\\u001b[2m__init__.py\u001b[0m\u001b]8;;\u001b\\\u001b[2m:\u001b[0m\u001b]8;id=791934;file:///home/srinadb/miniconda3/envs/cosipy_developer/lib/python3.10/site-packages/threeML/__init__.py#144\u001b\\\u001b[2m144\u001b[0m\u001b]8;;\u001b\\\n",
       "\u001b[38;5;46m         \u001b[0m         \u001b[1;38;5;251msoftware installed and configured?                                               \u001b[0m\u001b[1;38;5;251m \u001b[0m\u001b[2m               \u001b[0m\n"
      ]
     },
     "metadata": {},
     "output_type": "display_data"
    },
    {
     "data": {
      "text/html": [
       "<pre style=\"white-space:pre;overflow-x:auto;line-height:normal;font-family:Menlo,'DejaVu Sans Mono',consolas,'Courier New',monospace\"><span style=\"color: #00ff00; text-decoration-color: #00ff00\">         </span><span style=\"color: #af5fd7; text-decoration-color: #af5fd7\">WARNING </span> <span style=\"color: #c6c6c6; text-decoration-color: #c6c6c6; font-weight: bold\"> Could not import plugin HAWCLike.py. Do you have the relative instrument         </span><a href=\"file:///home/srinadb/miniconda3/envs/cosipy_developer/lib/python3.10/site-packages/threeML/__init__.py\" target=\"_blank\"><span style=\"color: #7f7f7f; text-decoration-color: #7f7f7f\">__init__.py</span></a><span style=\"color: #7f7f7f; text-decoration-color: #7f7f7f\">:</span><a href=\"file:///home/srinadb/miniconda3/envs/cosipy_developer/lib/python3.10/site-packages/threeML/__init__.py#144\" target=\"_blank\"><span style=\"color: #7f7f7f; text-decoration-color: #7f7f7f\">144</span></a>\n",
       "<span style=\"color: #00ff00; text-decoration-color: #00ff00\">         </span>         <span style=\"color: #c6c6c6; text-decoration-color: #c6c6c6; font-weight: bold\">software installed and configured?                                                </span><span style=\"color: #7f7f7f; text-decoration-color: #7f7f7f\">               </span>\n",
       "</pre>\n"
      ],
      "text/plain": [
       "\u001b[38;5;46m        \u001b[0m\u001b[38;5;46m \u001b[0m\u001b[38;5;134mWARNING \u001b[0m \u001b[1;38;5;251m Could not import plugin HAWCLike.py. Do you have the relative instrument        \u001b[0m\u001b[1;38;5;251m \u001b[0m\u001b]8;id=841772;file:///home/srinadb/miniconda3/envs/cosipy_developer/lib/python3.10/site-packages/threeML/__init__.py\u001b\\\u001b[2m__init__.py\u001b[0m\u001b]8;;\u001b\\\u001b[2m:\u001b[0m\u001b]8;id=479765;file:///home/srinadb/miniconda3/envs/cosipy_developer/lib/python3.10/site-packages/threeML/__init__.py#144\u001b\\\u001b[2m144\u001b[0m\u001b]8;;\u001b\\\n",
       "\u001b[38;5;46m         \u001b[0m         \u001b[1;38;5;251msoftware installed and configured?                                               \u001b[0m\u001b[1;38;5;251m \u001b[0m\u001b[2m               \u001b[0m\n"
      ]
     },
     "metadata": {},
     "output_type": "display_data"
    },
    {
     "data": {
      "text/html": [
       "<pre style=\"white-space:pre;overflow-x:auto;line-height:normal;font-family:Menlo,'DejaVu Sans Mono',consolas,'Courier New',monospace\"><span style=\"color: #00ff00; text-decoration-color: #00ff00\">         </span><span style=\"color: #af5fd7; text-decoration-color: #af5fd7\">WARNING </span> <span style=\"color: #c6c6c6; text-decoration-color: #c6c6c6; font-weight: bold\"> No fermitools installed                                              </span><a href=\"file:///home/srinadb/miniconda3/envs/cosipy_developer/lib/python3.10/site-packages/threeML/utils/data_builders/fermi/lat_transient_builder.py\" target=\"_blank\"><span style=\"color: #7f7f7f; text-decoration-color: #7f7f7f\">lat_transient_builder.py</span></a><span style=\"color: #7f7f7f; text-decoration-color: #7f7f7f\">:</span><a href=\"file:///home/srinadb/miniconda3/envs/cosipy_developer/lib/python3.10/site-packages/threeML/utils/data_builders/fermi/lat_transient_builder.py#44\" target=\"_blank\"><span style=\"color: #7f7f7f; text-decoration-color: #7f7f7f\">44</span></a>\n",
       "</pre>\n"
      ],
      "text/plain": [
       "\u001b[38;5;46m        \u001b[0m\u001b[38;5;46m \u001b[0m\u001b[38;5;134mWARNING \u001b[0m \u001b[1;38;5;251m No fermitools installed                                             \u001b[0m\u001b[1;38;5;251m \u001b[0m\u001b]8;id=92777;file:///home/srinadb/miniconda3/envs/cosipy_developer/lib/python3.10/site-packages/threeML/utils/data_builders/fermi/lat_transient_builder.py\u001b\\\u001b[2mlat_transient_builder.py\u001b[0m\u001b]8;;\u001b\\\u001b[2m:\u001b[0m\u001b]8;id=393122;file:///home/srinadb/miniconda3/envs/cosipy_developer/lib/python3.10/site-packages/threeML/utils/data_builders/fermi/lat_transient_builder.py#44\u001b\\\u001b[2m44\u001b[0m\u001b]8;;\u001b\\\n"
      ]
     },
     "metadata": {},
     "output_type": "display_data"
    },
    {
     "data": {
      "text/html": [
       "<pre style=\"white-space:pre;overflow-x:auto;line-height:normal;font-family:Menlo,'DejaVu Sans Mono',consolas,'Courier New',monospace\"><span style=\"color: #00ff00; text-decoration-color: #00ff00\">         </span><span style=\"color: #af5fd7; text-decoration-color: #af5fd7\">WARNING </span> <span style=\"color: #c6c6c6; text-decoration-color: #c6c6c6; font-weight: bold\"> Env. variable OMP_NUM_THREADS is not set. Please set it to </span><span style=\"color: #c0c0c0; text-decoration-color: #c0c0c0; font-weight: bold\">1</span><span style=\"color: #c6c6c6; text-decoration-color: #c6c6c6; font-weight: bold\"> for optimal         </span><a href=\"file:///home/srinadb/miniconda3/envs/cosipy_developer/lib/python3.10/site-packages/threeML/__init__.py\" target=\"_blank\"><span style=\"color: #7f7f7f; text-decoration-color: #7f7f7f\">__init__.py</span></a><span style=\"color: #7f7f7f; text-decoration-color: #7f7f7f\">:</span><a href=\"file:///home/srinadb/miniconda3/envs/cosipy_developer/lib/python3.10/site-packages/threeML/__init__.py#387\" target=\"_blank\"><span style=\"color: #7f7f7f; text-decoration-color: #7f7f7f\">387</span></a>\n",
       "<span style=\"color: #00ff00; text-decoration-color: #00ff00\">         </span>         <span style=\"color: #c6c6c6; text-decoration-color: #c6c6c6; font-weight: bold\">performances in 3ML                                                               </span><span style=\"color: #7f7f7f; text-decoration-color: #7f7f7f\">               </span>\n",
       "</pre>\n"
      ],
      "text/plain": [
       "\u001b[38;5;46m        \u001b[0m\u001b[38;5;46m \u001b[0m\u001b[38;5;134mWARNING \u001b[0m \u001b[1;38;5;251m Env. variable OMP_NUM_THREADS is not set. Please set it to \u001b[0m\u001b[1;37m1\u001b[0m\u001b[1;38;5;251m for optimal        \u001b[0m\u001b[1;38;5;251m \u001b[0m\u001b]8;id=587063;file:///home/srinadb/miniconda3/envs/cosipy_developer/lib/python3.10/site-packages/threeML/__init__.py\u001b\\\u001b[2m__init__.py\u001b[0m\u001b]8;;\u001b\\\u001b[2m:\u001b[0m\u001b]8;id=184780;file:///home/srinadb/miniconda3/envs/cosipy_developer/lib/python3.10/site-packages/threeML/__init__.py#387\u001b\\\u001b[2m387\u001b[0m\u001b]8;;\u001b\\\n",
       "\u001b[38;5;46m         \u001b[0m         \u001b[1;38;5;251mperformances in 3ML                                                              \u001b[0m\u001b[1;38;5;251m \u001b[0m\u001b[2m               \u001b[0m\n"
      ]
     },
     "metadata": {},
     "output_type": "display_data"
    },
    {
     "data": {
      "text/html": [
       "<pre style=\"white-space:pre;overflow-x:auto;line-height:normal;font-family:Menlo,'DejaVu Sans Mono',consolas,'Courier New',monospace\"><span style=\"color: #00ff00; text-decoration-color: #00ff00\">         </span><span style=\"color: #af5fd7; text-decoration-color: #af5fd7\">WARNING </span> <span style=\"color: #c6c6c6; text-decoration-color: #c6c6c6; font-weight: bold\"> Env. variable MKL_NUM_THREADS is not set. Please set it to </span><span style=\"color: #c0c0c0; text-decoration-color: #c0c0c0; font-weight: bold\">1</span><span style=\"color: #c6c6c6; text-decoration-color: #c6c6c6; font-weight: bold\"> for optimal         </span><a href=\"file:///home/srinadb/miniconda3/envs/cosipy_developer/lib/python3.10/site-packages/threeML/__init__.py\" target=\"_blank\"><span style=\"color: #7f7f7f; text-decoration-color: #7f7f7f\">__init__.py</span></a><span style=\"color: #7f7f7f; text-decoration-color: #7f7f7f\">:</span><a href=\"file:///home/srinadb/miniconda3/envs/cosipy_developer/lib/python3.10/site-packages/threeML/__init__.py#387\" target=\"_blank\"><span style=\"color: #7f7f7f; text-decoration-color: #7f7f7f\">387</span></a>\n",
       "<span style=\"color: #00ff00; text-decoration-color: #00ff00\">         </span>         <span style=\"color: #c6c6c6; text-decoration-color: #c6c6c6; font-weight: bold\">performances in 3ML                                                               </span><span style=\"color: #7f7f7f; text-decoration-color: #7f7f7f\">               </span>\n",
       "</pre>\n"
      ],
      "text/plain": [
       "\u001b[38;5;46m        \u001b[0m\u001b[38;5;46m \u001b[0m\u001b[38;5;134mWARNING \u001b[0m \u001b[1;38;5;251m Env. variable MKL_NUM_THREADS is not set. Please set it to \u001b[0m\u001b[1;37m1\u001b[0m\u001b[1;38;5;251m for optimal        \u001b[0m\u001b[1;38;5;251m \u001b[0m\u001b]8;id=878351;file:///home/srinadb/miniconda3/envs/cosipy_developer/lib/python3.10/site-packages/threeML/__init__.py\u001b\\\u001b[2m__init__.py\u001b[0m\u001b]8;;\u001b\\\u001b[2m:\u001b[0m\u001b]8;id=904114;file:///home/srinadb/miniconda3/envs/cosipy_developer/lib/python3.10/site-packages/threeML/__init__.py#387\u001b\\\u001b[2m387\u001b[0m\u001b]8;;\u001b\\\n",
       "\u001b[38;5;46m         \u001b[0m         \u001b[1;38;5;251mperformances in 3ML                                                              \u001b[0m\u001b[1;38;5;251m \u001b[0m\u001b[2m               \u001b[0m\n"
      ]
     },
     "metadata": {},
     "output_type": "display_data"
    },
    {
     "data": {
      "text/html": [
       "<pre style=\"white-space:pre;overflow-x:auto;line-height:normal;font-family:Menlo,'DejaVu Sans Mono',consolas,'Courier New',monospace\"><span style=\"color: #00ff00; text-decoration-color: #00ff00\">         </span><span style=\"color: #af5fd7; text-decoration-color: #af5fd7\">WARNING </span> <span style=\"color: #c6c6c6; text-decoration-color: #c6c6c6; font-weight: bold\"> Env. variable NUMEXPR_NUM_THREADS is not set. Please set it to </span><span style=\"color: #c0c0c0; text-decoration-color: #c0c0c0; font-weight: bold\">1</span><span style=\"color: #c6c6c6; text-decoration-color: #c6c6c6; font-weight: bold\"> for optimal     </span><a href=\"file:///home/srinadb/miniconda3/envs/cosipy_developer/lib/python3.10/site-packages/threeML/__init__.py\" target=\"_blank\"><span style=\"color: #7f7f7f; text-decoration-color: #7f7f7f\">__init__.py</span></a><span style=\"color: #7f7f7f; text-decoration-color: #7f7f7f\">:</span><a href=\"file:///home/srinadb/miniconda3/envs/cosipy_developer/lib/python3.10/site-packages/threeML/__init__.py#387\" target=\"_blank\"><span style=\"color: #7f7f7f; text-decoration-color: #7f7f7f\">387</span></a>\n",
       "<span style=\"color: #00ff00; text-decoration-color: #00ff00\">         </span>         <span style=\"color: #c6c6c6; text-decoration-color: #c6c6c6; font-weight: bold\">performances in 3ML                                                               </span><span style=\"color: #7f7f7f; text-decoration-color: #7f7f7f\">               </span>\n",
       "</pre>\n"
      ],
      "text/plain": [
       "\u001b[38;5;46m        \u001b[0m\u001b[38;5;46m \u001b[0m\u001b[38;5;134mWARNING \u001b[0m \u001b[1;38;5;251m Env. variable NUMEXPR_NUM_THREADS is not set. Please set it to \u001b[0m\u001b[1;37m1\u001b[0m\u001b[1;38;5;251m for optimal    \u001b[0m\u001b[1;38;5;251m \u001b[0m\u001b]8;id=458624;file:///home/srinadb/miniconda3/envs/cosipy_developer/lib/python3.10/site-packages/threeML/__init__.py\u001b\\\u001b[2m__init__.py\u001b[0m\u001b]8;;\u001b\\\u001b[2m:\u001b[0m\u001b]8;id=652904;file:///home/srinadb/miniconda3/envs/cosipy_developer/lib/python3.10/site-packages/threeML/__init__.py#387\u001b\\\u001b[2m387\u001b[0m\u001b]8;;\u001b\\\n",
       "\u001b[38;5;46m         \u001b[0m         \u001b[1;38;5;251mperformances in 3ML                                                              \u001b[0m\u001b[1;38;5;251m \u001b[0m\u001b[2m               \u001b[0m\n"
      ]
     },
     "metadata": {},
     "output_type": "display_data"
    }
   ],
   "source": [
    "from cosipy import COSILike, BinnedData\n",
    "from cosipy.spacecraftfile import SpacecraftFile\n",
    "from cosipy.response.FullDetectorResponse import FullDetectorResponse\n",
    "from cosipy.util import fetch_wasabi_file\n",
    "\n",
    "from scoords import SpacecraftFrame\n",
    "\n",
    "from astropy.time import Time\n",
    "import astropy.units as u\n",
    "from astropy.coordinates import SkyCoord\n",
    "from astropy.stats import poisson_conf_interval\n",
    "\n",
    "import numpy as np\n",
    "import matplotlib.pyplot as plt\n",
    "%matplotlib inline\n",
    "\n",
    "from threeML import Band, PointSource, Model, JointLikelihood, DataList\n",
    "from cosipy import Band_Eflux\n",
    "from astromodels import Parameter\n",
    "\n",
    "from pathlib import Path\n",
    "\n",
    "import os\n",
    "import corner\n",
    "from threeML import*\n"
   ]
  },
  {
   "cell_type": "markdown",
   "id": "8d1c0168-9823-4eb7-930e-5dc61d6448ca",
   "metadata": {},
   "source": [
    "## Get the data"
   ]
  },
  {
   "cell_type": "markdown",
   "id": "a57e30ec-9301-441c-a627-6ad0355aca22",
   "metadata": {},
   "source": [
    "Define the path to the directory to save the data. The data can be downloaded by running the cells below. Each respective cell also gives the wasabi file path and file size."
   ]
  },
  {
   "cell_type": "code",
   "execution_count": 2,
   "id": "5c765257-5a23-41bd-af67-4e461e3e6e4e",
   "metadata": {
    "tags": []
   },
   "outputs": [],
   "source": [
    "data_path = Path(\"/home/srinadb/cosipy/docs/tutorials/spectral_fits/dataset\")\n"
   ]
  },
  {
   "cell_type": "markdown",
   "id": "99500a01-882d-4053-a595-374202b87298",
   "metadata": {},
   "source": [
    "Download the source file (9.7 MB)"
   ]
  },
  {
   "cell_type": "code",
   "execution_count": 3,
   "id": "36f96db4-640d-4233-8b18-a81bafcfd009",
   "metadata": {
    "tags": []
   },
   "outputs": [
    {
     "name": "stdout",
     "output_type": "stream",
     "text": [
      "{\n",
      "    \"AcceptRanges\": \"bytes\",\n",
      "    \"LastModified\": \"Thu, 13 Feb 2025 17:00:49 GMT\",\n",
      "    \"ContentLength\": 3384313,\n",
      "    \"ETag\": \"\\\"ee7135795540824dce6b1df8e7fe43d2\\\"\",\n",
      "    \"ContentType\": \"application/gzip\",\n",
      "    \"Metadata\": {}\n",
      "}\n"
     ]
    }
   ],
   "source": [
    "# 4C+21.35 source\n",
    "# File size: 9.7 MB\n",
    "\n",
    "fetch_wasabi_file('COSI-SMEX/DC3/Data/Sources/4C21p35_noflare_3months_unbinned_data_filtered_with_SAAcut.fits.gz', output=str(data_path / '4C21p35_noflare_3months_unbinned_data_filtered_with_SAAcut.fits.gz'))\n"
   ]
  },
  {
   "cell_type": "markdown",
   "id": "c1c6d3c6-7d21-4ac5-b0c9-b45756c0586f",
   "metadata": {
    "tags": []
   },
   "source": [
    "Download the background file (2.7 GB)"
   ]
  },
  {
   "cell_type": "code",
   "execution_count": 4,
   "id": "51628f7e-cbab-4755-8cad-bf9af9a2a5f9",
   "metadata": {
    "tags": []
   },
   "outputs": [
    {
     "name": "stdout",
     "output_type": "stream",
     "text": [
      "{\n",
      "    \"AcceptRanges\": \"bytes\",\n",
      "    \"LastModified\": \"Mon, 17 Feb 2025 14:26:03 GMT\",\n",
      "    \"ContentLength\": 2903157095,\n",
      "    \"ETag\": \"\\\"80f088590996182860c195d0a383a6c9-29\\\"\",\n",
      "    \"ContentType\": \"application/gzip\",\n",
      "    \"Metadata\": {}\n",
      "}\n"
     ]
    }
   ],
   "source": [
    "# albedo photons\n",
    "# File size: 2.7 GB\n",
    "fetch_wasabi_file('COSI-SMEX/DC3/Data/Backgrounds/Ge/AlbedoPhotons_3months_unbinned_data_filtered_with_SAAcut.fits.gz', output=str(data_path / 'AlbedoPhotons_3months_unbinned_data_filtered_with_SAAcut.fits.gz'))\n"
   ]
  },
  {
   "cell_type": "markdown",
   "id": "f1264463-2db3-4da8-a5d5-743607e7b2eb",
   "metadata": {},
   "source": [
    "Create the combined data\n",
    "\n",
    "We will combine the 4C+21.35 source and the albedo photon background, which will be used as our dataset. This only needs to be done once. You can skip this cell if you already have the combined data file.\n"
   ]
  },
  {
   "cell_type": "code",
   "execution_count": 5,
   "id": "2f6ecc28-d928-4dc2-ad36-504e41175574",
   "metadata": {
    "tags": []
   },
   "outputs": [],
   "source": [
    "# Define instance of binned data class:\n",
    "instance = BinnedData(\"blazar.yaml\")\n",
    "\n",
    "# Combine files:\n",
    "\n",
    "input_files = [\"/home/srinadb/cosipy/docs/tutorials/spectral_fits/dataset/AlbedoPhotons_3months_unbinned_data_filtered_with_SAAcut.fits.gz\",\"/home/srinadb/cosipy/docs/tutorials/spectral_fits/dataset/4C21p35_noflare_3months_unbinned_data_filtered_with_SAAcut.fits.gz\"]\n",
    "instance.combine_unbinned_data(input_files, output_name=\"4C21p35_noflare_AlbedoPhoton_bkg\")\n"
   ]
  },
  {
   "cell_type": "markdown",
   "id": "095adbe9-d0d0-4794-8912-3b3f7390d7b4",
   "metadata": {},
   "source": [
    "Bin the data\n",
    "\n",
    "You only have to do this once, and after you can start by loading the binned data directly. You can skip this cell if you already have the binned data files."
   ]
  },
  {
   "cell_type": "code",
   "execution_count": 6,
   "id": "36eda626-4ee6-4e19-bb7e-16f5293a2832",
   "metadata": {
    "tags": []
   },
   "outputs": [],
   "source": [
    "# Bin 4C+21.35:\n",
    "flare = BinnedData(\"blazar.yaml\")\n",
    "\n",
    "flare.get_binned_data(unbinned_data=\"/home/srinadb/cosipy/docs/tutorials/spectral_fits/dataset/4C21p35_noflare_3months_unbinned_data_filtered_with_SAAcut.fits.gz\", output_name=\"4C21p35_noflare_binned_data\")\n"
   ]
  },
  {
   "cell_type": "code",
   "execution_count": 7,
   "id": "07cd655a-3dc0-48f1-96bb-1746a112b43f",
   "metadata": {
    "tags": []
   },
   "outputs": [],
   "source": [
    "# Bin background:\n",
    "bg_tot = BinnedData(\"blazar.yaml\")\n",
    "\n",
    "bg_tot.get_binned_data(unbinned_data=\"/home/srinadb/cosipy/docs/tutorials/spectral_fits/dataset/AlbedoPhotons_3months_unbinned_data_filtered_with_SAAcut.fits.gz\", output_name=\"AlbedoPhoton_bkg_binned_data\")\n"
   ]
  },
  {
   "cell_type": "code",
   "execution_count": 8,
   "id": "4d5b3b57-94cf-421b-960f-406c5a61c995",
   "metadata": {
    "tags": []
   },
   "outputs": [],
   "source": [
    "# Bin combined data:\n",
    "data_combined = BinnedData(\"blazar.yaml\")\n",
    "\n",
    "data_combined.get_binned_data(unbinned_data=\"/home/srinadb/cosipy/docs/tutorials/spectral_fits/continuum_fit/blazar/4C21p35_noflare_AlbedoPhoton_bkg.fits.gz\", output_name=\"4C21p35_noflare_AlbedoPhoton_bkg_binned_data\")\n"
   ]
  },
  {
   "cell_type": "markdown",
   "id": "7434761f-e3ba-440f-b833-0a05dc4d85dd",
   "metadata": {},
   "source": [
    "### No Flare"
   ]
  },
  {
   "cell_type": "code",
   "execution_count": 9,
   "id": "3c2e63b4-c8c7-4921-8e2a-79d35d3ed4df",
   "metadata": {},
   "outputs": [
    {
     "name": "stdout",
     "output_type": "stream",
     "text": [
      "1.4112374166612337e-12\n"
     ]
    }
   ],
   "source": [
    "# https://github.com/cositools/cosi-sim/blob/main/cosi_sim/Source_Library/DC3/sources/Extragalactic/4C21p35_noflare/4C21p35_noflare.source\n",
    "\n",
    "total_integrated_flux = 0.0005535336768481181 # ph/cm^2/s 0.0005535336768481181\n",
    "alpha = -1.6\n",
    "\n",
    "# F_int = (K / (E_piv^alpha * (alpha+1))) * [ E_max^(alpha+1) - E_min^(alpha+1) ]\n",
    "# K = F_int * (E_piv^alpha * (alpha+1)) / [ E_max^(alpha+1) - E_min^(alpha+1) ]\n",
    "\n",
    "E_min = 100.0\n",
    "E_max = 10000.0\n",
    "E_piv = 1000000\n",
    "\n",
    "n = total_integrated_flux * (E_piv**alpha) * (1+alpha)\n",
    "d = (E_max**(1+alpha) - E_min**(1+alpha))\n",
    "\n",
    "k = n/d\n",
    "print(k)"
   ]
  },
  {
   "cell_type": "code",
   "execution_count": 13,
   "id": "877f54ee-10a1-478b-b04d-bb39218d03f1",
   "metadata": {},
   "outputs": [
    {
     "name": "stdout",
     "output_type": "stream",
     "text": [
      "Reading data from: ./4C_21_spectrum_noflare.dat\n",
      "Using parameters: alpha=-1.6, E_piv=1.0 GeV (1.0e+06 keV)\n",
      "Using formula: dN/dE = K * (E / E_piv)^-1.60\n",
      "------------------------------\n",
      "------------------------------\n",
      "Successfully calculated K for 493 data points.\n",
      "Average K value: 1.450068733e-12 ph cm^-2 s^-1 keV^-1\n",
      "\n",
      "Individual Point Summary:\n",
      "Energy (keV) | dN/dE        | Calculated K\n",
      "----------------------------------------------\n",
      "1.00000e+02  | 3.60000e-06  | 1.43319e-12 \n",
      "1.08000e+02  | 3.23700e-06  | 1.45754e-12 \n",
      "1.09000e+02  | 3.18900e-06  | 1.45726e-12 \n",
      "1.10000e+02  | 3.14200e-06  | 1.45692e-12 \n",
      "1.11000e+02  | 3.09600e-06  | 1.45652e-12 \n",
      "1.12000e+02  | 3.05100e-06  | 1.45610e-12 \n",
      "1.13000e+02  | 3.00600e-06  | 1.45517e-12 \n",
      "1.14000e+02  | 2.96200e-06  | 1.45423e-12 \n",
      "1.15000e+02  | 2.91900e-06  | 1.45328e-12 \n",
      "1.16000e+02  | 2.87600e-06  | 1.45185e-12 \n",
      "1.17000e+02  | 2.83400e-06  | 1.45043e-12 \n",
      "1.18000e+02  | 2.79200e-06  | 1.44853e-12 \n",
      "1.19000e+02  | 2.75100e-06  | 1.44666e-12 \n",
      "1.20000e+02  | 2.71100e-06  | 1.44484e-12 \n",
      "1.21000e+02  | 2.67100e-06  | 1.44255e-12 \n",
      "1.23000e+02  | 2.63200e-06  | 1.45926e-12 \n",
      "1.24000e+02  | 2.59400e-06  | 1.45695e-12 \n",
      "1.25000e+02  | 2.55500e-06  | 1.45361e-12 \n",
      "1.26000e+02  | 2.51800e-06  | 1.45094e-12 \n",
      "1.27000e+02  | 2.48100e-06  | 1.44781e-12 \n",
      "1.28000e+02  | 2.44500e-06  | 1.44482e-12 \n",
      "1.29000e+02  | 2.40900e-06  | 1.44139e-12 \n",
      "1.31000e+02  | 2.37400e-06  | 1.45584e-12 \n",
      "1.32000e+02  | 2.33900e-06  | 1.45194e-12 \n",
      "1.33000e+02  | 2.30500e-06  | 1.44822e-12 \n",
      "1.34000e+02  | 2.27100e-06  | 1.44406e-12 \n",
      "1.36000e+02  | 2.23700e-06  | 1.45656e-12 \n",
      "1.37000e+02  | 2.20500e-06  | 1.45265e-12 \n",
      "1.38000e+02  | 2.17200e-06  | 1.44766e-12 \n",
      "1.39000e+02  | 2.14100e-06  | 1.44358e-12 \n",
      "1.41000e+02  | 2.10900e-06  | 1.45488e-12 \n",
      "1.42000e+02  | 2.07800e-06  | 1.44980e-12 \n",
      "1.43000e+02  | 2.04800e-06  | 1.44500e-12 \n",
      "1.45000e+02  | 2.01800e-06  | 1.45583e-12 \n",
      "1.46000e+02  | 1.98800e-06  | 1.45004e-12 \n",
      "1.47000e+02  | 1.95900e-06  | 1.44458e-12 \n",
      "1.49000e+02  | 1.93000e-06  | 1.45430e-12 \n",
      "1.50000e+02  | 1.90200e-06  | 1.44863e-12 \n",
      "1.51000e+02  | 1.87400e-06  | 1.44256e-12 \n",
      "1.53000e+02  | 1.84700e-06  | 1.45202e-12 \n",
      "1.54000e+02  | 1.82000e-06  | 1.44579e-12 \n",
      "1.56000e+02  | 1.79300e-06  | 1.45405e-12 \n",
      "1.57000e+02  | 1.76700e-06  | 1.44769e-12 \n",
      "1.59000e+02  | 1.74100e-06  | 1.45557e-12 \n",
      "1.60000e+02  | 1.71500e-06  | 1.44829e-12 \n",
      "1.62000e+02  | 1.69000e-06  | 1.45583e-12 \n",
      "1.63000e+02  | 1.66500e-06  | 1.44849e-12 \n",
      "1.65000e+02  | 1.64100e-06  | 1.45574e-12 \n",
      "1.66000e+02  | 1.61700e-06  | 1.44838e-12 \n",
      "1.68000e+02  | 1.59300e-06  | 1.45449e-12 \n",
      "1.69000e+02  | 1.57000e-06  | 1.44717e-12 \n",
      "1.71000e+02  | 1.54700e-06  | 1.45306e-12 \n",
      "1.72000e+02  | 1.52400e-06  | 1.44488e-12 \n",
      "1.74000e+02  | 1.50200e-06  | 1.45060e-12 \n",
      "1.76000e+02  | 1.48000e-06  | 1.45573e-12 \n",
      "1.77000e+02  | 1.45800e-06  | 1.44715e-12 \n",
      "1.79000e+02  | 1.43700e-06  | 1.45218e-12 \n",
      "1.81000e+02  | 1.41600e-06  | 1.45663e-12 \n",
      "1.82000e+02  | 1.39500e-06  | 1.44773e-12 \n",
      "1.84000e+02  | 1.37400e-06  | 1.45109e-12 \n",
      "1.86000e+02  | 1.35400e-06  | 1.45492e-12 \n",
      "1.87000e+02  | 1.33400e-06  | 1.44578e-12 \n",
      "1.89000e+02  | 1.31500e-06  | 1.44965e-12 \n",
      "1.91000e+02  | 1.29600e-06  | 1.45298e-12 \n",
      "1.93000e+02  | 1.27700e-06  | 1.45574e-12 \n",
      "1.94000e+02  | 1.25800e-06  | 1.44598e-12 \n",
      "1.96000e+02  | 1.24000e-06  | 1.44888e-12 \n",
      "1.98000e+02  | 1.22100e-06  | 1.45004e-12 \n",
      "2.00000e+02  | 1.20300e-06  | 1.45182e-12 \n",
      "2.02000e+02  | 1.18600e-06  | 1.45428e-12 \n",
      "2.04000e+02  | 1.16800e-06  | 1.45496e-12 \n",
      "2.05000e+02  | 1.15100e-06  | 1.44505e-12 \n",
      "2.07000e+02  | 1.13400e-06  | 1.44599e-12 \n",
      "2.09000e+02  | 1.11800e-06  | 1.44769e-12 \n",
      "2.11000e+02  | 1.10100e-06  | 1.44757e-12 \n",
      "2.13000e+02  | 1.08500e-06  | 1.44823e-12 \n",
      "2.15000e+02  | 1.06900e-06  | 1.44837e-12 \n",
      "2.17000e+02  | 1.05400e-06  | 1.44936e-12 \n",
      "2.19000e+02  | 1.03800e-06  | 1.44846e-12 \n",
      "2.21000e+02  | 1.02300e-06  | 1.44845e-12 \n",
      "2.23000e+02  | 1.00800e-06  | 1.44793e-12 \n",
      "2.25000e+02  | 9.93200e-07  | 1.44720e-12 \n",
      "2.27000e+02  | 9.78700e-07  | 1.44641e-12 \n",
      "2.29000e+02  | 9.64300e-07  | 1.44527e-12 \n",
      "2.32000e+02  | 9.50200e-07  | 1.45411e-12 \n",
      "2.34000e+02  | 9.36300e-07  | 1.45265e-12 \n",
      "2.36000e+02  | 9.22600e-07  | 1.45102e-12 \n",
      "2.38000e+02  | 9.09000e-07  | 1.44906e-12 \n",
      "2.40000e+02  | 8.95700e-07  | 1.44711e-12 \n",
      "2.43000e+02  | 8.82600e-07  | 1.45457e-12 \n",
      "2.45000e+02  | 8.69600e-07  | 1.45206e-12 \n",
      "2.47000e+02  | 8.56900e-07  | 1.44959e-12 \n",
      "2.49000e+02  | 8.44300e-07  | 1.44682e-12 \n",
      "2.52000e+02  | 8.32000e-07  | 1.45333e-12 \n",
      "2.54000e+02  | 8.19800e-07  | 1.45025e-12 \n",
      "2.56000e+02  | 8.07700e-07  | 1.44689e-12 \n",
      "2.59000e+02  | 7.95900e-07  | 1.45257e-12 \n",
      "2.61000e+02  | 7.84200e-07  | 1.44894e-12 \n",
      "2.64000e+02  | 7.72700e-07  | 1.45404e-12 \n",
      "2.66000e+02  | 7.61400e-07  | 1.45019e-12 \n",
      "2.68000e+02  | 7.50300e-07  | 1.44627e-12 \n",
      "2.71000e+02  | 7.39300e-07  | 1.45068e-12 \n",
      "2.73000e+02  | 7.28400e-07  | 1.44621e-12 \n",
      "2.76000e+02  | 7.17700e-07  | 1.45010e-12 \n",
      "2.79000e+02  | 7.07200e-07  | 1.45381e-12 \n",
      "2.81000e+02  | 6.96900e-07  | 1.44911e-12 \n",
      "2.84000e+02  | 6.86600e-07  | 1.45216e-12 \n",
      "2.86000e+02  | 6.76600e-07  | 1.44716e-12 \n",
      "2.89000e+02  | 6.66700e-07  | 1.45000e-12 \n",
      "2.92000e+02  | 6.56900e-07  | 1.45249e-12 \n",
      "2.94000e+02  | 6.47300e-07  | 1.44698e-12 \n",
      "2.97000e+02  | 6.37800e-07  | 1.44909e-12 \n",
      "3.00000e+02  | 6.28400e-07  | 1.45088e-12 \n",
      "3.03000e+02  | 6.19200e-07  | 1.45258e-12 \n",
      "3.05000e+02  | 6.10100e-07  | 1.44637e-12 \n",
      "3.08000e+02  | 6.01200e-07  | 1.44777e-12 \n",
      "3.11000e+02  | 5.92400e-07  | 1.44888e-12 \n",
      "3.14000e+02  | 5.83700e-07  | 1.44970e-12 \n",
      "3.17000e+02  | 5.75100e-07  | 1.45023e-12 \n",
      "3.20000e+02  | 5.66700e-07  | 1.45075e-12 \n",
      "3.23000e+02  | 5.58400e-07  | 1.45101e-12 \n",
      "3.26000e+02  | 5.50200e-07  | 1.45100e-12 \n",
      "3.29000e+02  | 5.42200e-07  | 1.45102e-12 \n",
      "3.32000e+02  | 5.34200e-07  | 1.45052e-12 \n",
      "3.35000e+02  | 5.26400e-07  | 1.45007e-12 \n",
      "3.38000e+02  | 5.18700e-07  | 1.44938e-12 \n",
      "3.41000e+02  | 5.11100e-07  | 1.44848e-12 \n",
      "3.44000e+02  | 5.03600e-07  | 1.44737e-12 \n",
      "3.48000e+02  | 4.96200e-07  | 1.45273e-12 \n",
      "3.51000e+02  | 4.88900e-07  | 1.45115e-12 \n",
      "3.54000e+02  | 4.81800e-07  | 1.44968e-12 \n",
      "3.57000e+02  | 4.74700e-07  | 1.44773e-12 \n",
      "3.61000e+02  | 4.67700e-07  | 1.45204e-12 \n",
      "3.64000e+02  | 4.60900e-07  | 1.45000e-12 \n",
      "3.67000e+02  | 4.54100e-07  | 1.44750e-12 \n",
      "3.71000e+02  | 4.47500e-07  | 1.45141e-12 \n",
      "3.74000e+02  | 4.40900e-07  | 1.44855e-12 \n",
      "3.78000e+02  | 4.34400e-07  | 1.45170e-12 \n",
      "3.81000e+02  | 4.28100e-07  | 1.44886e-12 \n",
      "3.85000e+02  | 4.21800e-07  | 1.45159e-12 \n",
      "3.88000e+02  | 4.15600e-07  | 1.44813e-12 \n",
      "3.92000e+02  | 4.09500e-07  | 1.45048e-12 \n",
      "3.96000e+02  | 4.03500e-07  | 1.45263e-12 \n",
      "3.99000e+02  | 3.97600e-07  | 1.44878e-12 \n",
      "4.03000e+02  | 3.91800e-07  | 1.45062e-12 \n",
      "4.07000e+02  | 3.86000e-07  | 1.45191e-12 \n",
      "4.10000e+02  | 3.80400e-07  | 1.44775e-12 \n",
      "4.14000e+02  | 3.74800e-07  | 1.44877e-12 \n",
      "4.18000e+02  | 3.69300e-07  | 1.44964e-12 \n",
      "4.22000e+02  | 3.63900e-07  | 1.45038e-12 \n",
      "4.26000e+02  | 3.58600e-07  | 1.45099e-12 \n",
      "4.30000e+02  | 3.53300e-07  | 1.45109e-12 \n",
      "4.34000e+02  | 3.48100e-07  | 1.45107e-12 \n",
      "4.38000e+02  | 3.43000e-07  | 1.45095e-12 \n",
      "4.42000e+02  | 3.38000e-07  | 1.45075e-12 \n",
      "4.46000e+02  | 3.33000e-07  | 1.45004e-12 \n",
      "4.50000e+02  | 3.28200e-07  | 1.44970e-12 \n",
      "4.54000e+02  | 3.23400e-07  | 1.44887e-12 \n",
      "4.58000e+02  | 3.18600e-07  | 1.44754e-12 \n",
      "4.63000e+02  | 3.13900e-07  | 1.45118e-12 \n",
      "4.67000e+02  | 3.09300e-07  | 1.44973e-12 \n",
      "4.71000e+02  | 3.04800e-07  | 1.44827e-12 \n",
      "4.76000e+02  | 3.00300e-07  | 1.45120e-12 \n",
      "4.80000e+02  | 2.95900e-07  | 1.44921e-12 \n",
      "4.85000e+02  | 2.91600e-07  | 1.45203e-12 \n",
      "4.89000e+02  | 2.87300e-07  | 1.44954e-12 \n",
      "4.94000e+02  | 2.83100e-07  | 1.45179e-12 \n",
      "4.98000e+02  | 2.79000e-07  | 1.44934e-12 \n",
      "5.03000e+02  | 2.74900e-07  | 1.45105e-12 \n",
      "5.07000e+02  | 2.70800e-07  | 1.44764e-12 \n",
      "5.12000e+02  | 2.66900e-07  | 1.44937e-12 \n",
      "5.17000e+02  | 2.63000e-07  | 1.45058e-12 \n",
      "5.22000e+02  | 2.59100e-07  | 1.45124e-12 \n",
      "5.27000e+02  | 2.55300e-07  | 1.45194e-12 \n",
      "5.31000e+02  | 2.51600e-07  | 1.44831e-12 \n",
      "5.36000e+02  | 2.47900e-07  | 1.44857e-12 \n",
      "5.41000e+02  | 2.44300e-07  | 1.44890e-12 \n",
      "5.46000e+02  | 2.40700e-07  | 1.44872e-12 \n",
      "5.51000e+02  | 2.37100e-07  | 1.44802e-12 \n",
      "5.57000e+02  | 2.33700e-07  | 1.45220e-12 \n",
      "5.62000e+02  | 2.30200e-07  | 1.45105e-12 \n",
      "5.67000e+02  | 2.26900e-07  | 1.45067e-12 \n",
      "5.72000e+02  | 2.23500e-07  | 1.44914e-12 \n",
      "5.77000e+02  | 2.20300e-07  | 1.44842e-12 \n",
      "5.83000e+02  | 2.17000e-07  | 1.45054e-12 \n",
      "5.88000e+02  | 2.13900e-07  | 1.44949e-12 \n",
      "5.94000e+02  | 2.10700e-07  | 1.45119e-12 \n",
      "5.99000e+02  | 2.07600e-07  | 1.44914e-12 \n",
      "6.05000e+02  | 2.04600e-07  | 1.45116e-12 \n",
      "6.10000e+02  | 2.01600e-07  | 1.44883e-12 \n",
      "6.16000e+02  | 1.98600e-07  | 1.44980e-12 \n",
      "6.22000e+02  | 1.95700e-07  | 1.45096e-12 \n",
      "6.27000e+02  | 1.92900e-07  | 1.44864e-12 \n",
      "6.33000e+02  | 1.90000e-07  | 1.44877e-12 \n",
      "6.39000e+02  | 1.87200e-07  | 1.44913e-12 \n",
      "6.45000e+02  | 1.84500e-07  | 1.44975e-12 \n",
      "6.51000e+02  | 1.81800e-07  | 1.44985e-12 \n",
      "6.57000e+02  | 1.79100e-07  | 1.44944e-12 \n",
      "6.63000e+02  | 1.76500e-07  | 1.44933e-12 \n",
      "6.69000e+02  | 1.73900e-07  | 1.44871e-12 \n",
      "6.76000e+02  | 1.71400e-07  | 1.45186e-12 \n",
      "6.82000e+02  | 1.68900e-07  | 1.45106e-12 \n",
      "6.88000e+02  | 1.66400e-07  | 1.44976e-12 \n",
      "6.95000e+02  | 1.63900e-07  | 1.45129e-12 \n",
      "7.01000e+02  | 1.61500e-07  | 1.44984e-12 \n",
      "7.07000e+02  | 1.59200e-07  | 1.44882e-12 \n",
      "7.14000e+02  | 1.56800e-07  | 1.44965e-12 \n",
      "7.21000e+02  | 1.54500e-07  | 1.45086e-12 \n",
      "7.27000e+02  | 1.52300e-07  | 1.44929e-12 \n",
      "7.34000e+02  | 1.50000e-07  | 1.44946e-12 \n",
      "7.41000e+02  | 1.47800e-07  | 1.45005e-12 \n",
      "7.48000e+02  | 1.45700e-07  | 1.45112e-12 \n",
      "7.55000e+02  | 1.43500e-07  | 1.45066e-12 \n",
      "7.62000e+02  | 1.41400e-07  | 1.45070e-12 \n",
      "7.69000e+02  | 1.39400e-07  | 1.45126e-12 \n",
      "7.76000e+02  | 1.37300e-07  | 1.45027e-12 \n",
      "7.83000e+02  | 1.35300e-07  | 1.44983e-12 \n",
      "7.90000e+02  | 1.33300e-07  | 1.44888e-12 \n",
      "7.98000e+02  | 1.31400e-07  | 1.45144e-12 \n",
      "8.05000e+02  | 1.29400e-07  | 1.44946e-12 \n",
      "8.12000e+02  | 1.27500e-07  | 1.44810e-12 \n",
      "8.20000e+02  | 1.25700e-07  | 1.45023e-12 \n",
      "8.28000e+02  | 1.23800e-07  | 1.45067e-12 \n",
      "8.35000e+02  | 1.22000e-07  | 1.44897e-12 \n",
      "8.43000e+02  | 1.20200e-07  | 1.44953e-12 \n",
      "8.51000e+02  | 1.18500e-07  | 1.45079e-12 \n",
      "8.59000e+02  | 1.16700e-07  | 1.45031e-12 \n",
      "8.67000e+02  | 1.15000e-07  | 1.45054e-12 \n",
      "8.75000e+02  | 1.13300e-07  | 1.45025e-12 \n",
      "8.83000e+02  | 1.11700e-07  | 1.45074e-12 \n",
      "8.91000e+02  | 1.10000e-07  | 1.44943e-12 \n",
      "8.99000e+02  | 1.08400e-07  | 1.44892e-12 \n",
      "9.08000e+02  | 1.06800e-07  | 1.45047e-12 \n",
      "9.16000e+02  | 1.05300e-07  | 1.45031e-12 \n",
      "9.25000e+02  | 1.03700e-07  | 1.45079e-12 \n",
      "9.33000e+02  | 1.02200e-07  | 1.44964e-12 \n",
      "9.42000e+02  | 1.00700e-07  | 1.45048e-12 \n",
      "9.51000e+02  | 9.92300e-08  | 1.45122e-12 \n",
      "9.59000e+02  | 9.77800e-08  | 1.44931e-12 \n",
      "9.68000e+02  | 9.63400e-08  | 1.44946e-12 \n",
      "9.77000e+02  | 9.49300e-08  | 1.44956e-12 \n",
      "9.86000e+02  | 9.35400e-08  | 1.44944e-12 \n",
      "9.95000e+02  | 9.21700e-08  | 1.44913e-12 \n",
      "1.00500e+03  | 9.08200e-08  | 1.45093e-12 \n",
      "1.01400e+03  | 8.94900e-08  | 1.45022e-12 \n",
      "1.02300e+03  | 8.81800e-08  | 1.44934e-12 \n",
      "1.03300e+03  | 8.68800e-08  | 1.45038e-12 \n",
      "1.04200e+03  | 8.56100e-08  | 1.44915e-12 \n",
      "1.05200e+03  | 8.43600e-08  | 1.44998e-12 \n",
      "1.06200e+03  | 8.31200e-08  | 1.45046e-12 \n",
      "1.07200e+03  | 8.19000e-08  | 1.45076e-12 \n",
      "1.08200e+03  | 8.07000e-08  | 1.45090e-12 \n",
      "1.09200e+03  | 7.95200e-08  | 1.45088e-12 \n",
      "1.10200e+03  | 7.83500e-08  | 1.45054e-12 \n",
      "1.11200e+03  | 7.72000e-08  | 1.45006e-12 \n",
      "1.12200e+03  | 7.60700e-08  | 1.44945e-12 \n",
      "1.13300e+03  | 7.49600e-08  | 1.45077e-12 \n",
      "1.14300e+03  | 7.38600e-08  | 1.44972e-12 \n",
      "1.15400e+03  | 7.27800e-08  | 1.45058e-12 \n",
      "1.16400e+03  | 7.17100e-08  | 1.44912e-12 \n",
      "1.17500e+03  | 7.06600e-08  | 1.44955e-12 \n",
      "1.18600e+03  | 6.96200e-08  | 1.44967e-12 \n",
      "1.19700e+03  | 6.86000e-08  | 1.44969e-12 \n",
      "1.20800e+03  | 6.76000e-08  | 1.44962e-12 \n",
      "1.21900e+03  | 6.66100e-08  | 1.44926e-12 \n",
      "1.23100e+03  | 6.56300e-08  | 1.45049e-12 \n",
      "1.24200e+03  | 6.46700e-08  | 1.44976e-12 \n",
      "1.25400e+03  | 6.37200e-08  | 1.45061e-12 \n",
      "1.26500e+03  | 6.27900e-08  | 1.44956e-12 \n",
      "1.27700e+03  | 6.18600e-08  | 1.44982e-12 \n",
      "1.28900e+03  | 6.09600e-08  | 1.45027e-12 \n",
      "1.30100e+03  | 6.00600e-08  | 1.45020e-12 \n",
      "1.31300e+03  | 5.91800e-08  | 1.45010e-12 \n",
      "1.32500e+03  | 5.83200e-08  | 1.44998e-12 \n",
      "1.33700e+03  | 5.74600e-08  | 1.44936e-12 \n",
      "1.35000e+03  | 5.66200e-08  | 1.45045e-12 \n",
      "1.36200e+03  | 5.57900e-08  | 1.44957e-12 \n",
      "1.37500e+03  | 5.49700e-08  | 1.45014e-12 \n",
      "1.38800e+03  | 5.41700e-08  | 1.45071e-12 \n",
      "1.40100e+03  | 5.33700e-08  | 1.45077e-12 \n",
      "1.41400e+03  | 5.25900e-08  | 1.45085e-12 \n",
      "1.42700e+03  | 5.18200e-08  | 1.45069e-12 \n",
      "1.44000e+03  | 5.10600e-08  | 1.45031e-12 \n",
      "1.45300e+03  | 5.03100e-08  | 1.44970e-12 \n",
      "1.46700e+03  | 4.95700e-08  | 1.45046e-12 \n",
      "1.48000e+03  | 4.88500e-08  | 1.44972e-12 \n",
      "1.49400e+03  | 4.81300e-08  | 1.45003e-12 \n",
      "1.50800e+03  | 4.74300e-08  | 1.45042e-12 \n",
      "1.52200e+03  | 4.67300e-08  | 1.45030e-12 \n",
      "1.53600e+03  | 4.60500e-08  | 1.45029e-12 \n",
      "1.55000e+03  | 4.53700e-08  | 1.44977e-12 \n",
      "1.56500e+03  | 4.47100e-08  | 1.45087e-12 \n",
      "1.57900e+03  | 4.40500e-08  | 1.44996e-12 \n",
      "1.59400e+03  | 4.34000e-08  | 1.45034e-12 \n",
      "1.60800e+03  | 4.27700e-08  | 1.44943e-12 \n",
      "1.62300e+03  | 4.21400e-08  | 1.44945e-12 \n",
      "1.63800e+03  | 4.15200e-08  | 1.44930e-12 \n",
      "1.65400e+03  | 4.09200e-08  | 1.45075e-12 \n",
      "1.66900e+03  | 4.03200e-08  | 1.45028e-12 \n",
      "1.68400e+03  | 3.97200e-08  | 1.44929e-12 \n",
      "1.70000e+03  | 3.91400e-08  | 1.44990e-12 \n",
      "1.71600e+03  | 3.85700e-08  | 1.45036e-12 \n",
      "1.73200e+03  | 3.80000e-08  | 1.45031e-12 \n",
      "1.74800e+03  | 3.74500e-08  | 1.45050e-12 \n",
      "1.76400e+03  | 3.69000e-08  | 1.45019e-12 \n",
      "1.78000e+03  | 3.63600e-08  | 1.44976e-12 \n",
      "1.79700e+03  | 3.58200e-08  | 1.45012e-12 \n",
      "1.81300e+03  | 3.53000e-08  | 1.44948e-12 \n",
      "1.83000e+03  | 3.47800e-08  | 1.44961e-12 \n",
      "1.84700e+03  | 3.42700e-08  | 1.44964e-12 \n",
      "1.86400e+03  | 3.37700e-08  | 1.44959e-12 \n",
      "1.88200e+03  | 3.32700e-08  | 1.45025e-12 \n",
      "1.89900e+03  | 3.27900e-08  | 1.45004e-12 \n",
      "1.91700e+03  | 3.23100e-08  | 1.45055e-12 \n",
      "1.93500e+03  | 3.18300e-08  | 1.45053e-12 \n",
      "1.95200e+03  | 3.13700e-08  | 1.44971e-12 \n",
      "1.97100e+03  | 3.09100e-08  | 1.45077e-12 \n",
      "1.98900e+03  | 3.04500e-08  | 1.45012e-12 \n",
      "2.00700e+03  | 3.00100e-08  | 1.44991e-12 \n",
      "2.02600e+03  | 2.95700e-08  | 1.45036e-12 \n",
      "2.04500e+03  | 2.91300e-08  | 1.45027e-12 \n",
      "2.06400e+03  | 2.87100e-08  | 1.45067e-12 \n",
      "2.08300e+03  | 2.82900e-08  | 1.45056e-12 \n",
      "2.10200e+03  | 2.78700e-08  | 1.44994e-12 \n",
      "2.12200e+03  | 2.74600e-08  | 1.45042e-12 \n",
      "2.14100e+03  | 2.70600e-08  | 1.44982e-12 \n",
      "2.16100e+03  | 2.66600e-08  | 1.44980e-12 \n",
      "2.18100e+03  | 2.62700e-08  | 1.44980e-12 \n",
      "2.20100e+03  | 2.58900e-08  | 1.44985e-12 \n",
      "2.22200e+03  | 2.55100e-08  | 1.45044e-12 \n",
      "2.24200e+03  | 2.51300e-08  | 1.44947e-12 \n",
      "2.26300e+03  | 2.47700e-08  | 1.45018e-12 \n",
      "2.28400e+03  | 2.44000e-08  | 1.44978e-12 \n",
      "2.30500e+03  | 2.40400e-08  | 1.44947e-12 \n",
      "2.32700e+03  | 2.36900e-08  | 1.45024e-12 \n",
      "2.34800e+03  | 2.33500e-08  | 1.45012e-12 \n",
      "2.37000e+03  | 2.30000e-08  | 1.44986e-12 \n",
      "2.39200e+03  | 2.26700e-08  | 1.45034e-12 \n",
      "2.41400e+03  | 2.23300e-08  | 1.44967e-12 \n",
      "2.43700e+03  | 2.20100e-08  | 1.45074e-12 \n",
      "2.45900e+03  | 2.16800e-08  | 1.44968e-12 \n",
      "2.48200e+03  | 2.13700e-08  | 1.45040e-12 \n",
      "2.50500e+03  | 2.10500e-08  | 1.44992e-12 \n",
      "2.52800e+03  | 2.07400e-08  | 1.44961e-12 \n",
      "2.55200e+03  | 2.04400e-08  | 1.45041e-12 \n",
      "2.57500e+03  | 2.01400e-08  | 1.44978e-12 \n",
      "2.59900e+03  | 1.98500e-08  | 1.45028e-12 \n",
      "2.62300e+03  | 1.95500e-08  | 1.44952e-12 \n",
      "2.64800e+03  | 1.92700e-08  | 1.45061e-12 \n",
      "2.67200e+03  | 1.89900e-08  | 1.45032e-12 \n",
      "2.69700e+03  | 1.87100e-08  | 1.45039e-12 \n",
      "2.72200e+03  | 1.84300e-08  | 1.44993e-12 \n",
      "2.74700e+03  | 1.81600e-08  | 1.44974e-12 \n",
      "2.77300e+03  | 1.79000e-08  | 1.45068e-12 \n",
      "2.79800e+03  | 1.76300e-08  | 1.44947e-12 \n",
      "2.82400e+03  | 1.73800e-08  | 1.45022e-12 \n",
      "2.85000e+03  | 1.71200e-08  | 1.44962e-12 \n",
      "2.87700e+03  | 1.68700e-08  | 1.45017e-12 \n",
      "2.90400e+03  | 1.66200e-08  | 1.45019e-12 \n",
      "2.93000e+03  | 1.63800e-08  | 1.44978e-12 \n",
      "2.95800e+03  | 1.61400e-08  | 1.45044e-12 \n",
      "2.98500e+03  | 1.59000e-08  | 1.44980e-12 \n",
      "3.01300e+03  | 1.56700e-08  | 1.45033e-12 \n",
      "3.04100e+03  | 1.54400e-08  | 1.45035e-12 \n",
      "3.06900e+03  | 1.52100e-08  | 1.44985e-12 \n",
      "3.09700e+03  | 1.49900e-08  | 1.44980e-12 \n",
      "3.12600e+03  | 1.47700e-08  | 1.44998e-12 \n",
      "3.15500e+03  | 1.45500e-08  | 1.44965e-12 \n",
      "3.18400e+03  | 1.43400e-08  | 1.44979e-12 \n",
      "3.21400e+03  | 1.41300e-08  | 1.45016e-12 \n",
      "3.24400e+03  | 1.39200e-08  | 1.45000e-12 \n",
      "3.27400e+03  | 1.37200e-08  | 1.45037e-12 \n",
      "3.30400e+03  | 1.35200e-08  | 1.45024e-12 \n",
      "3.33500e+03  | 1.33200e-08  | 1.45030e-12 \n",
      "3.36600e+03  | 1.31200e-08  | 1.44983e-12 \n",
      "3.39700e+03  | 1.29300e-08  | 1.44994e-12 \n",
      "3.42800e+03  | 1.27400e-08  | 1.44956e-12 \n",
      "3.46000e+03  | 1.25600e-08  | 1.45048e-12 \n",
      "3.49200e+03  | 1.23700e-08  | 1.44973e-12 \n",
      "3.52400e+03  | 1.21900e-08  | 1.44964e-12 \n",
      "3.55700e+03  | 1.20100e-08  | 1.44970e-12 \n",
      "3.59000e+03  | 1.18400e-08  | 1.45045e-12 \n",
      "3.62300e+03  | 1.16600e-08  | 1.44947e-12 \n",
      "3.65700e+03  | 1.14900e-08  | 1.44984e-12 \n",
      "3.69100e+03  | 1.13200e-08  | 1.44970e-12 \n",
      "3.72500e+03  | 1.11600e-08  | 1.45033e-12 \n",
      "3.76000e+03  | 1.09900e-08  | 1.44977e-12 \n",
      "3.79500e+03  | 1.08300e-08  | 1.45000e-12 \n",
      "3.83000e+03  | 1.06700e-08  | 1.44971e-12 \n",
      "3.86500e+03  | 1.05200e-08  | 1.45029e-12 \n",
      "3.90100e+03  | 1.03600e-08  | 1.44958e-12 \n",
      "3.93700e+03  | 1.02100e-08  | 1.44974e-12 \n",
      "3.97400e+03  | 1.00600e-08  | 1.44998e-12 \n",
      "4.01100e+03  | 9.91400e-09  | 1.45028e-12 \n",
      "4.04800e+03  | 9.76900e-09  | 1.45022e-12 \n",
      "4.08500e+03  | 9.62600e-09  | 1.44995e-12 \n",
      "4.12300e+03  | 9.48500e-09  | 1.45004e-12 \n",
      "4.16100e+03  | 9.34500e-09  | 1.44976e-12 \n",
      "4.20000e+03  | 9.20900e-09  | 1.45014e-12 \n",
      "4.23900e+03  | 9.07400e-09  | 1.45017e-12 \n",
      "4.27800e+03  | 8.94100e-09  | 1.45001e-12 \n",
      "4.31800e+03  | 8.80900e-09  | 1.45004e-12 \n",
      "4.35800e+03  | 8.68000e-09  | 1.45004e-12 \n",
      "4.39800e+03  | 8.55300e-09  | 1.44986e-12 \n",
      "4.43900e+03  | 8.42800e-09  | 1.45004e-12 \n",
      "4.48000e+03  | 8.30400e-09  | 1.44988e-12 \n",
      "4.52200e+03  | 8.18300e-09  | 1.45025e-12 \n",
      "4.56400e+03  | 8.06300e-09  | 1.45027e-12 \n",
      "4.60600e+03  | 7.94400e-09  | 1.44997e-12 \n",
      "4.64900e+03  | 7.82800e-09  | 1.45019e-12 \n",
      "4.69200e+03  | 7.71300e-09  | 1.45009e-12 \n",
      "4.73500e+03  | 7.60000e-09  | 1.44986e-12 \n",
      "4.77900e+03  | 7.48900e-09  | 1.44998e-12 \n",
      "4.82400e+03  | 7.37900e-09  | 1.45027e-12 \n",
      "4.86800e+03  | 7.27100e-09  | 1.44996e-12 \n",
      "4.91300e+03  | 7.16400e-09  | 1.44981e-12 \n",
      "4.95900e+03  | 7.05900e-09  | 1.45002e-12 \n",
      "5.00500e+03  | 6.95600e-09  | 1.45013e-12 \n",
      "5.05100e+03  | 6.85400e-09  | 1.44993e-12 \n",
      "5.09800e+03  | 6.75300e-09  | 1.44989e-12 \n",
      "5.14500e+03  | 6.65400e-09  | 1.44977e-12 \n",
      "5.19300e+03  | 6.55700e-09  | 1.45002e-12 \n",
      "5.24100e+03  | 6.46100e-09  | 1.44998e-12 \n",
      "5.29000e+03  | 6.36600e-09  | 1.45009e-12 \n",
      "5.33900e+03  | 6.27300e-09  | 1.45014e-12 \n",
      "5.38800e+03  | 6.18100e-09  | 1.44992e-12 \n",
      "5.43800e+03  | 6.09000e-09  | 1.44984e-12 \n",
      "5.48900e+03  | 6.00100e-09  | 1.45015e-12 \n",
      "5.54000e+03  | 5.91300e-09  | 1.45019e-12 \n",
      "5.59100e+03  | 5.82600e-09  | 1.44995e-12 \n",
      "5.64300e+03  | 5.74100e-09  | 1.45012e-12 \n",
      "5.69500e+03  | 5.65700e-09  | 1.45003e-12 \n",
      "5.74800e+03  | 5.57400e-09  | 1.45009e-12 \n",
      "5.80100e+03  | 5.49200e-09  | 1.44989e-12 \n",
      "5.85500e+03  | 5.41200e-09  | 1.45011e-12 \n",
      "5.90900e+03  | 5.33200e-09  | 1.44981e-12 \n",
      "5.96400e+03  | 5.25400e-09  | 1.44994e-12 \n",
      "6.01900e+03  | 5.17700e-09  | 1.44983e-12 \n",
      "6.07500e+03  | 5.10100e-09  | 1.44987e-12 \n",
      "6.13200e+03  | 5.02600e-09  | 1.45006e-12 \n",
      "6.18800e+03  | 4.95300e-09  | 1.44994e-12 \n",
      "6.24600e+03  | 4.88000e-09  | 1.45005e-12 \n",
      "6.30400e+03  | 4.80900e-09  | 1.45024e-12 \n",
      "6.36200e+03  | 4.73800e-09  | 1.44992e-12 \n",
      "6.42100e+03  | 4.66900e-09  | 1.45007e-12 \n",
      "6.48100e+03  | 4.60000e-09  | 1.45006e-12 \n",
      "6.54100e+03  | 4.53300e-09  | 1.45016e-12 \n",
      "6.60100e+03  | 4.46600e-09  | 1.44975e-12 \n",
      "6.66300e+03  | 4.40100e-09  | 1.45018e-12 \n",
      "6.72400e+03  | 4.33600e-09  | 1.44975e-12 \n",
      "6.78700e+03  | 4.27300e-09  | 1.45017e-12 \n",
      "6.85000e+03  | 4.21000e-09  | 1.45006e-12 \n",
      "6.91300e+03  | 4.14900e-09  | 1.45014e-12 \n",
      "6.97700e+03  | 4.08800e-09  | 1.45004e-12 \n",
      "7.04200e+03  | 4.02800e-09  | 1.45012e-12 \n",
      "7.10700e+03  | 3.96900e-09  | 1.45004e-12 \n",
      "7.17300e+03  | 3.91100e-09  | 1.45014e-12 \n",
      "7.24000e+03  | 3.85300e-09  | 1.45004e-12 \n",
      "7.30700e+03  | 3.79700e-09  | 1.45018e-12 \n",
      "7.37500e+03  | 3.74100e-09  | 1.45013e-12 \n",
      "7.44300e+03  | 3.68600e-09  | 1.44995e-12 \n",
      "7.51200e+03  | 3.63200e-09  | 1.44996e-12 \n",
      "7.58200e+03  | 3.57900e-09  | 1.45016e-12 \n",
      "7.65200e+03  | 3.52700e-09  | 1.45026e-12 \n",
      "7.72300e+03  | 3.47500e-09  | 1.45015e-12 \n",
      "7.79400e+03  | 3.42400e-09  | 1.44994e-12 \n",
      "7.86700e+03  | 3.37400e-09  | 1.45024e-12 \n",
      "7.94000e+03  | 3.32400e-09  | 1.45002e-12 \n",
      "8.01300e+03  | 3.27600e-09  | 1.45016e-12 \n",
      "8.08800e+03  | 3.22800e-09  | 1.45037e-12 \n",
      "8.16300e+03  | 3.18000e-09  | 1.45006e-12 \n",
      "8.23800e+03  | 3.13400e-09  | 1.45015e-12 \n",
      "8.31500e+03  | 3.08800e-09  | 1.45030e-12 \n",
      "8.39200e+03  | 3.04200e-09  | 1.44992e-12 \n",
      "8.46900e+03  | 2.99800e-09  | 1.44998e-12 \n",
      "8.54800e+03  | 2.95400e-09  | 1.45009e-12 \n",
      "8.62700e+03  | 2.91100e-09  | 1.45017e-12 \n",
      "8.70700e+03  | 2.86800e-09  | 1.45000e-12 \n",
      "8.78800e+03  | 2.82600e-09  | 1.45009e-12 \n",
      "8.86900e+03  | 2.78500e-09  | 1.45019e-12 \n",
      "8.95200e+03  | 2.74400e-09  | 1.45029e-12 \n",
      "9.03500e+03  | 2.70300e-09  | 1.44988e-12 \n",
      "9.11800e+03  | 2.66400e-09  | 1.45002e-12 \n",
      "9.20300e+03  | 2.62500e-09  | 1.45016e-12 \n",
      "9.28800e+03  | 2.58600e-09  | 1.44979e-12 \n",
      "9.37400e+03  | 2.54800e-09  | 1.44970e-12 \n",
      "9.46100e+03  | 2.51100e-09  | 1.44993e-12 \n",
      "9.54900e+03  | 2.47400e-09  | 1.44988e-12 \n",
      "9.63800e+03  | 2.43800e-09  | 1.45015e-12 \n",
      "9.72700e+03  | 2.40200e-09  | 1.44990e-12 \n",
      "9.81700e+03  | 2.36700e-09  | 1.44999e-12 \n",
      "9.90800e+03  | 2.33200e-09  | 1.44979e-12 \n",
      "1.00000e+04  | 2.29800e-09  | 1.44994e-12 \n"
     ]
    }
   ],
   "source": [
    "# https://github.com/cositools/cosi-sim/blob/main/cosi_sim/Source_Library/DC3/sources/Extragalactic/4C21p35_noflare/4C_21_spectrum_noflare.dat\n",
    "\n",
    "import math \n",
    "\n",
    "# --- Configuration ---\n",
    "FILENAME = './4C_21_spectrum_noflare.dat'  # Name of your data file\n",
    "ALPHA = -1.6                    # The alpha parameter from the formula\n",
    "E_PIV_GEV = 1.0                # Pivot energy in GeV\n",
    "\n",
    "# --- Constants and Conversions ---\n",
    "E_PIV_KEV = E_PIV_GEV * 1e6    # Convert Pivot Energy to keV\n",
    "EXPONENT = ALPHA              # The actual exponent in the formula dN/dE = K*(E/E_piv)^(-alpha)\n",
    "\n",
    "# --- Function to calculate K for a single point ---\n",
    "def calculate_single_k(energy_kev, dNdE, e_piv_kev, exponent):\n",
    "    \"\"\"\n",
    "    Calculates K for a single energy point using dN/dE = K * (E/E_piv)^exponent.\n",
    "    Returns K or None if calculation fails.\n",
    "    \"\"\"\n",
    "    if energy_kev <= 0 or e_piv_kev <= 0 or dNdE < 0:\n",
    "        print(f\"Warning: Invalid input for K calculation \"\n",
    "              f\"(E={energy_kev:.2e}, dN/dE={dNdE:.2e}). Skipping.\")\n",
    "        return None\n",
    "\n",
    "    try:\n",
    "        # Formula: K = dNdE / ( (E / E_piv)^exponent )\n",
    "        base = energy_kev / e_piv_kev\n",
    "        denominator = math.pow(base, exponent)\n",
    "\n",
    "        if denominator == 0:\n",
    "            print(f\"Warning: Denominator is zero for E={energy_kev:.2e}. Skipping K calculation.\")\n",
    "            return None\n",
    "\n",
    "        K = dNdE / denominator\n",
    "        return K\n",
    "\n",
    "    except (OverflowError, ValueError) as e:\n",
    "        print(f\"Error calculating K for E={energy_kev:.2e}: {e}. Skipping.\")\n",
    "        return None\n",
    "    except ZeroDivisionError:\n",
    "        print(f\"Warning: Division by zero (base likely zero) for E={energy_kev:.2e}. Skipping K calculation.\")\n",
    "        return None\n",
    "\n",
    "\n",
    "# --- Main Script Logic ---\n",
    "k_values = []\n",
    "energies = []\n",
    "dNdE_values = []\n",
    "\n",
    "print(f\"Reading data from: {FILENAME}\")\n",
    "print(f\"Using parameters: alpha={ALPHA}, E_piv={E_PIV_GEV} GeV ({E_PIV_KEV:.1e} keV)\")\n",
    "print(f\"Using formula: dN/dE = K * (E / E_piv)^{EXPONENT:.2f}\")\n",
    "print(\"-\" * 30)\n",
    "\n",
    "# Check if file exists\n",
    "if not os.path.exists(FILENAME):\n",
    "    print(f\"Error: File not found at '{FILENAME}'\")\n",
    "    exit() # Stop execution if file doesn't exist\n",
    "\n",
    "# Read the file and process data lines\n",
    "try:\n",
    "    with open(FILENAME, 'r') as f:\n",
    "        for i, line in enumerate(f):\n",
    "            line = line.strip() # Remove leading/trailing whitespace\n",
    "            if line.startswith('DP '):\n",
    "                parts = line.split()\n",
    "                if len(parts) >= 3:\n",
    "                    try:\n",
    "                        energy_kev = float(parts[1])\n",
    "                        spectrum_dNdE = float(parts[2]) # This is dN/dE\n",
    "\n",
    "                        # Calculate K for this point\n",
    "                        k_single = calculate_single_k(energy_kev, spectrum_dNdE, E_PIV_KEV, EXPONENT)\n",
    "\n",
    "                        # Store values if K calculation was successful\n",
    "                        if k_single is not None:\n",
    "                            k_values.append(k_single)\n",
    "                            energies.append(energy_kev)\n",
    "                            dNdE_values.append(spectrum_dNdE)\n",
    "                            # Optional: print K for each point as it's calculated\n",
    "                            # print(f\"  Line {i+1}: E={energy_kev:.3e}, dN/dE={spectrum_dNdE:.3e} -> K={k_single:.3e}\")\n",
    "\n",
    "                    except ValueError:\n",
    "                        print(f\"Warning: Could not parse numbers on line {i+1}: '{line}'. Skipping.\")\n",
    "                    except IndexError:\n",
    "                         print(f\"Warning: Not enough columns on line {i+1}: '{line}'. Skipping.\")\n",
    "                else:\n",
    "                    print(f\"Warning: Malformed 'DP' line {i+1}: '{line}'. Skipping.\")\n",
    "\n",
    "except IOError as e:\n",
    "    print(f\"Error reading file '{FILENAME}': {e}\")\n",
    "    exit()\n",
    "\n",
    "print(\"-\" * 30)\n",
    "\n",
    "# --- Calculate and Print Average K ---\n",
    "if k_values: # Check if the list is not empty\n",
    "    average_k = sum(k_values) / len(k_values)\n",
    "    print(f\"Successfully calculated K for {len(k_values)} data points.\")\n",
    "    print(f\"Average K value: {average_k:.9e} ph cm^-2 s^-1 keV^-1\")\n",
    "\n",
    "    # Optional: Print a summary table\n",
    "    print(\"\\nIndividual Point Summary:\")\n",
    "    print(\"Energy (keV) | dN/dE        | Calculated K\")\n",
    "    print(\"----------------------------------------------\")\n",
    "    for e, dn, k in zip(energies, dNdE_values, k_values):\n",
    "        print(f\"{e:<12.5e} | {dn:<12.5e} | {k:<12.5e}\")\n",
    "\n",
    "else:\n",
    "    print(\"No valid K values were calculated from the file.\")\n",
    "\n",
    "\n"
   ]
  }
 ],
 "metadata": {
  "kernelspec": {
   "display_name": "cosipy_developer",
   "language": "python",
   "name": "cosipy_developer"
  },
  "language_info": {
   "codemirror_mode": {
    "name": "ipython",
    "version": 3
   },
   "file_extension": ".py",
   "mimetype": "text/x-python",
   "name": "python",
   "nbconvert_exporter": "python",
   "pygments_lexer": "ipython3",
   "version": "3.10.16"
  }
 },
 "nbformat": 4,
 "nbformat_minor": 5
}
